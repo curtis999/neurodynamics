{
 "metadata": {
  "name": "week_1_GHK_dynamics"
 },
 "nbformat": 3,
 "nbformat_minor": 0,
 "worksheets": [
  {
   "cells": [
    {
     "cell_type": "heading",
     "level": 2,
     "metadata": {},
     "source": [
      "GHK Equation Notes and Homework"
     ]
    },
    {
     "cell_type": "heading",
     "level": 2,
     "metadata": {},
     "source": [
      "Nernst Potential"
     ]
    },
    {
     "cell_type": "markdown",
     "metadata": {},
     "source": [
      "<img src='files/ghk_membrane.jpeg'>\n",
      "Consider $K^+$ ions in solution separated by a membrane.  If a potential exists across the membrane and the system is at equilibrium, we can find a relation between the concentrations of potassium ions inside and outside and the voltage through boltzmann statistics:\n",
      "$$\\frac{[K^+]_i}{[K^+]_o} = \\frac{n_i}{n_o} = \\frac{e^{-\\epsilon_i/kT}}{e^{-\\epsilon_o/kT}}= e^{-q(V_i - V_o)/kT}$$\n",
      "from the proportionality $n\\propto e^{-\\epsilon/kT}$\n",
      "Calling $V_m = V_i - V_o$ we have,\n",
      "$$V_m = \\frac{kT}{q}\\ln \\frac{[K^+]_o}{[K^+]_i}.$$\n",
      "This allows us to calculate the membrane potential from concentration measurements, or the concentration ratio from the voltage. Recalling that $kT \\approx 1/40 eV$ at room temperature, we can rewrite this as,\n",
      "$$V_m = 25 mV\\cdot\\ln \\frac{[K^+]_o}{[K^+]_i}.$$\n",
      "This is the equilibrium voltage for this ion at these potentials and we will refer to it as $E_K$ from now on.  Some calculated values may be seen in the following table.\n",
      "<img src='files/ghk_ion_concentrations.jpeg'>"
     ]
    },
    {
     "cell_type": "heading",
     "level": 2,
     "metadata": {},
     "source": [
      "Nerst-Planck"
     ]
    },
    {
     "cell_type": "markdown",
     "metadata": {},
     "source": [
      "<img src='files/ghk_drift_diffusion.jpeg'>\n",
      "If we wanted to do better, we could attempt to understand the flow of ions as a drift diffusion process.  So drift drives the ions across the membrane with the membrane potential and diffusion opposes the buildup of a concentration gradient.  This will give us two currents:\n",
      "$$\\text{Drift:}\\quad J_{Drift} = \\mu [K^+] q\\vec{E} = -q\\mu [K^+]\\cdot\\nabla V $$\n",
      "where $\\mu$ is the mobility and\n",
      "$$\\text{Diffusion:}\\quad J_{Diff} = -qD\\nabla [K^+] $$\n",
      "(Note that including the charge like this is common practice in the study of plasmas, in which case $\\mu$ is the electric mobility. It is somewhat awkward in my opinion but may account for the repulsion between the particles as an extra diffusive force.)\n",
      "\n",
      "At equilibrium we have $J_{tot} = 0 = J_{Drift} + J_{Diff}.$\n",
      "Taking this in 1-D, we can separate and integrate between inside and outside obtaining:\n",
      "$$V_m = \\frac{D}{\\mu}\\ln \\frac{[K^+]_o}{[K^+]_i}$$\n",
      "from which we form the Einstein relation,\n",
      "$$D = \\frac{\\mu kT}{q}$$"
     ]
    },
    {
     "cell_type": "heading",
     "level": 2,
     "metadata": {},
     "source": [
      "Membrane Dynamics"
     ]
    },
    {
     "cell_type": "markdown",
     "metadata": {},
     "source": [
      "We now examine the flow of ions outside of equilibrium.  Our potassium current will have the form:\n",
      "$$J_K = -q\\mu [K^+]\\nabla V - qD\\nabla [K^+] = -q\\mu [K^+]\\left(\\frac{dV}{dx} + \\frac{kT}{q}\\frac{d}{dx} \\ln{[K^+]}\\right)$$\n",
      "Pulling out some terms and making a few approximations, we can get an approximate current through an effective surface area $A$:\n",
      "$$I_K\\approx q\\mu [\\overline{K^+}]\\frac{A}{L}\\left(V_i - V_0 - \\frac{kT}{q}\\ln\\frac{[K^+]_o}{[K^+]_i}\\right) = g_K(V_m - E_K)$$\n",
      "So this has the form of a conductivity times two voltage terms, allowing us to understand the dynamics implied by the difference between the equilibrium voltage and the measured membrane potential, and identify the conductance, $g_K = q\\mu [\\overline{K^+}]\\frac{A}{L}.$ (Note that all of these dependencies are exactly what you would expect.)\n",
      "\n",
      "We can imagine the membrane as a capacitor where charge concentrations on either side maintain the total membrane voltage $V_m$.  Ionic currents will be driven by the difference between the membrane voltage and the equilibrium voltage of that particular ion.  We can represent this graphically, both for a single species, and for two species as:\n",
      "<img src='files/ghk_circuit.jpeg'>\n",
      "In the bottom panel, we will have equilibrium when the currents balance each other $I = I_K+I_{Na}=0$ which gives a membrane voltage of\n",
      "$$V_m = \\frac{g_K E_K + g_{Na}E_{Na}}{g_K + g_{Na}}$$"
     ]
    },
    {
     "cell_type": "heading",
     "level": 2,
     "metadata": {},
     "source": [
      "Goldman-Hodgkin-Katz"
     ]
    },
    {
     "cell_type": "markdown",
     "metadata": {},
     "source": [
      "Looking at our equation for the current density,\n",
      "$$J_K = -q\\mu\\left(\\frac{kT}{q}\\frac{d[K^+]}{dx} + [K^+]\\frac{dV}{dx}\\right)$$\n",
      "this is really a differential equation for $[K^+]$ that with a few assumptions we can solve and use it to get an expression for $J_K$ in terms of concentrations and potentials instead of gradients.  We first assume that we can treat the membrane as a capacitor so that $\\frac{dV}{dx} = \\text{const.} = -\\frac{V_m}{L}$.  Additionally, we assume that $J_K$ is constant from conservation of mass flow.  Under these assumptions, if we separate, integrate across the membrane, and solve for $J_K$ we are left with,\n",
      "$$J_K = \\frac{q\\mu V_m}{L}\\cdot\\frac{[K^+]_i-e^{-V_m/\\frac{kT}{q}}[K^+]_o}{1-e^{-V_m/\\frac{kT}{q}}}$$\n",
      "the GHK equation. Note that the characteristic voltage scale is $V_t = \\frac{kT}{q} \\approx 25mV$ and we can rewrite our equation\n",
      "$$J_K = \\frac{q\\mu V_m}{L}\\cdot\\frac{[K^+]_i-e^{-V_m/V_t}[K^+]_o}{1-e^{-V_m/V_t}}$$"
     ]
    },
    {
     "cell_type": "heading",
     "level": 3,
     "metadata": {},
     "source": [
      "Some Interesting Limits"
     ]
    },
    {
     "cell_type": "markdown",
     "metadata": {},
     "source": [
      "First, if $[K^+]_i=[K^+]_o=[K^+]$ then we have just drift and,\n",
      "$$J_K = \\frac{q\\mu V_m}{L}[K^+].$$\n",
      "\n",
      "We have equilibrium when $[K^+]_i=e^{-V_m/V_t}[K^+]_o$ giving $V_m = V_t\\ln\\frac{[K^+]_o}{[K^+]_i}=E_K$ which matches our previous result.\n",
      "\n",
      "Defining the permeability as $P_K = \\frac{q\\mu}{L}$:\n",
      "\n",
      "Looking at $V_m \\gg V_t$ we have $J_K = P_K V_m[K^+]_i$\n",
      "\n",
      "Looking at $V_m \\ll -V_t$ we have $J_K = P_K V_m[K^+]_o$\n",
      "\n",
      "These are just drift proportional to the concentration on the high voltage side."
     ]
    }
   ],
   "metadata": {}
  }
 ]
}