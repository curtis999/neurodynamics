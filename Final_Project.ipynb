{
 "metadata": {
  "name": ""
 },
 "nbformat": 3,
 "nbformat_minor": 0,
 "worksheets": [
  {
   "cells": [
    {
     "cell_type": "heading",
     "level": 1,
     "metadata": {},
     "source": [
      "Criticality and Compressive Sensing"
     ]
    },
    {
     "cell_type": "code",
     "collapsed": false,
     "input": [
      "%pylab inline"
     ],
     "language": "python",
     "metadata": {},
     "outputs": [
      {
       "output_type": "stream",
       "stream": "stdout",
       "text": [
        "Populating the interactive namespace from numpy and matplotlib\n"
       ]
      }
     ],
     "prompt_number": 1
    },
    {
     "cell_type": "code",
     "collapsed": false,
     "input": [
      "import numpy as np\n",
      "import scipy as scp\n",
      "import matplotlib.pyplot as plt\n",
      "import itertools as it"
     ],
     "language": "python",
     "metadata": {},
     "outputs": [],
     "prompt_number": 2
    },
    {
     "cell_type": "heading",
     "level": 2,
     "metadata": {},
     "source": [
      "Ising Model"
     ]
    },
    {
     "cell_type": "markdown",
     "metadata": {},
     "source": []
    },
    {
     "cell_type": "code",
     "collapsed": false,
     "input": [
      "class Ising(object):\n",
      "    # Implements an Ising model\n",
      "    \n",
      "    def __init__(self, shape, T, init = None):\n",
      "        # initialize the state and temperature of the ising model\n",
      "        if init == None:\n",
      "            self.state = np.random.choice([-1, 1], shape)\n",
      "        else:\n",
      "            self.state = init\n",
      "\n",
      "        if self.state.shape != shape:\n",
      "            print \"The inital state does not match the shape!\"\n",
      "            print \"Repairing\"\n",
      "            shape = self.state.shape\n",
      "            \n",
      "        self.temp = T\n",
      "        self.rows = self.state.shape[0]\n",
      "        self.cols = self.state.shape[1]\n",
      "\n",
      "            \n",
      "    def set_temp(self, T):\n",
      "        self.temp = T\n",
      "    \n",
      "    def local_field(self, i, j):\n",
      "        # Calculate the local field due to neighboring spins.  We implement periodic boundary\n",
      "        # conditions\n",
      "        b_ij = 0\n",
      "        if i == 0:\n",
      "            b_ij = self.state[1, j] + self.state[-1, j]\n",
      "                        \n",
      "        elif i == self.rows - 1:\n",
      "            b_ij = self.state[i - 1, j] + self.state[0, j]\n",
      "            \n",
      "        else:\n",
      "            b_ij = self.state[i - 1, j] + self.state[i + 1, j]\n",
      "            \n",
      "        if j == 0:\n",
      "            b_ij = b_ij + self.state[i, 1] + self.state[i, -1]\n",
      "            \n",
      "        elif j == self.cols - 1:\n",
      "            b_ij = b_ij + self.state[i, j - 1] + self.state[i, 0]\n",
      "            \n",
      "        else:\n",
      "            b_ij = b_ij + self.state[i, j - 1] + self.state[i, j + 1]\n",
      "        return b_ij\n",
      "            \n",
      "    def gibbs(self, N):\n",
      "        # Runs Gibbs sampling over the ising model N times.\n",
      "        # In Gibbs sampling, a random spin is selected.  The local field is calculated as\n",
      "        # the sum over the neighboring spins plus an external field\n",
      "        spins_i = np.random.randint(self.rows, size=N)\n",
      "        spins_j = np.random.randint(self.cols, size=N)\n",
      "        \n",
      "        for i, j in it.izip(spins_i, spins_j):\n",
      "            local_b = self.local_field(i, j)\n",
      "            prob_1 = 1 / (1 + np.exp(-2 * local_b / self.temp))\n",
      "            if prob_1 > np.random.rand():\n",
      "                self.state[i, j] = 1\n",
      "            else:\n",
      "                self.state[i, j] = -1\n",
      "    \n",
      "    def metropolis(self, N):\n",
      "        # Runs Metropolis sampling over the Ising model N times.\n",
      "        # In Metropolis sampling a spin is selected and the change in energy from flipping the spin is calculated.\n",
      "        # The change is accepted if the energy difference is negative and accepted with a probability equal to the ratio\n",
      "        # of the Boltzmann factors of the two states if it is positive\n",
      "        spins_i = np.random.randint(self.rows, size=N)\n",
      "        spins_j = np.random.randint(self.cols, size=N)\n",
      "        \n",
      "        for i, j in it.izip(spins_i, spins_j):\n",
      "            local_b = self.local_field(i, j)\n",
      "            delta_E = 2 * self.state[i, j] * local_b\n",
      "            if delta_E <= 0 or np.random.rand() <= np.exp(- delta_E / self.temp):\n",
      "                self.state[i, j] = -1 * self.state[i, j]\n",
      "    \n",
      "    def display(self):\n",
      "        plt.imshow(self.state , cmap='Greys', interpolation='nearest')\n",
      "        \n",
      "        "
     ],
     "language": "python",
     "metadata": {},
     "outputs": [],
     "prompt_number": 4
    },
    {
     "cell_type": "code",
     "collapsed": false,
     "input": [
      "test = Ising((100, 100), 2)"
     ],
     "language": "python",
     "metadata": {},
     "outputs": [],
     "prompt_number": 5
    },
    {
     "cell_type": "code",
     "collapsed": false,
     "input": [],
     "language": "python",
     "metadata": {},
     "outputs": [],
     "prompt_number": 5
    },
    {
     "cell_type": "code",
     "collapsed": false,
     "input": [
      "test.set_temp(2.4)\n",
      "test.gibbs(100000)\n",
      "test.display()"
     ],
     "language": "python",
     "metadata": {},
     "outputs": [
      {
       "metadata": {},
       "output_type": "display_data",
       "png": "[encoded data removed]",
       "text": [
        "<matplotlib.figure.Figure at 0x3961050>"
       ]
      }
     ],
     "prompt_number": 7
    },
    {
     "cell_type": "code",
     "collapsed": false,
     "input": [],
     "language": "python",
     "metadata": {},
     "outputs": [],
     "prompt_number": 97
    },
    {
     "cell_type": "code",
     "collapsed": false,
     "input": [],
     "language": "python",
     "metadata": {},
     "outputs": [],
     "prompt_number": 65
    },
    {
     "cell_type": "code",
     "collapsed": false,
     "input": [],
     "language": "python",
     "metadata": {},
     "outputs": []
    }
   ],
   "metadata": {}
  }
 ]
}