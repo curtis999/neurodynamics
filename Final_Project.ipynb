{
 "metadata": {
  "name": ""
 },
 "nbformat": 3,
 "nbformat_minor": 0,
 "worksheets": [
  {
   "cells": [
    {
     "cell_type": "heading",
     "level": 1,
     "metadata": {},
     "source": [
      "Criticality and Compressive Sensing"
     ]
    },
    {
     "cell_type": "code",
     "collapsed": false,
     "input": [
      "%pylab inline"
     ],
     "language": "python",
     "metadata": {},
     "outputs": [
      {
       "output_type": "stream",
       "stream": "stdout",
       "text": [
        "Populating the interactive namespace from numpy and matplotlib\n"
       ]
      }
     ],
     "prompt_number": 1
    },
    {
     "cell_type": "code",
     "collapsed": false,
     "input": [
      "import numpy as np\n",
      "import scipy as scp\n",
      "import matplotlib.pyplot as plt\n",
      "import itertools as it\n",
      "from collections import deque"
     ],
     "language": "python",
     "metadata": {},
     "outputs": [],
     "prompt_number": 2
    },
    {
     "cell_type": "heading",
     "level": 2,
     "metadata": {},
     "source": [
      "Ising Model"
     ]
    },
    {
     "cell_type": "markdown",
     "metadata": {},
     "source": [
      "The Ising model obeys the hamiltonian\n",
      "$$H = -\\frac{1}{2}\\epsilon\\sum_{(m,n)}J_{mn}x_m x_m + H\\sum_n x_n$$\n",
      "Where $x_n\\in {1,-1}$ and $J_{mn}$ is 1 if the two spins are connected and zero otherwise (or -1 for an antiferromagnet) and $\\epsilon$ measures the strength of the coupling between $m$ and $n$.  The spins $x_n$ are typically arranged on a lattice with nearest neighbor interactions.  States of specified temperature can be generated through Monte Carlo methods.  This seems like an opportunity to implement a class:"
     ]
    },
    {
     "cell_type": "code",
     "collapsed": false,
     "input": [
      "class Ising(object):\n",
      "    # Implements an Ising model.\n",
      "    # Data stored by the model are:\n",
      "    # state - the current state of the model\n",
      "    # temp - the temperature of the model\n",
      "    # rows\n",
      "    # cols\n",
      "    def __init__(self, shape, T, init = None):\n",
      "        # initialize the state and temperature of the ising model\n",
      "        if init == None:\n",
      "            self.state = np.random.choice([-1, 1], shape)\n",
      "        else:\n",
      "            self.state = init\n",
      "\n",
      "        if self.state.shape != shape:\n",
      "            print \"The inital state does not match the shape!\"\n",
      "            print \"Repairing\"\n",
      "            shape = self.state.shape\n",
      "            \n",
      "        self.temp = T\n",
      "        self.rows = self.state.shape[0]\n",
      "        self.cols = self.state.shape[1]\n",
      "        self.sites = self.rows * self.cols\n",
      "       \n",
      "    def set_temp(self, T):\n",
      "        self.temp = T\n",
      "    \n",
      "    def new_state(self, newstate):\n",
      "        # the only reason this is here is to ensure that the shape is correct\n",
      "        if newstate.shape == self.state.shape:\n",
      "            self.state = newstate\n",
      "        else:\n",
      "            print \"State does not match dimensions\"\n",
      "\n",
      "    def randomize(self):\n",
      "        # this is an initial state when evolving the network to a state of high energy\n",
      "        self.state = np.random.choice([-1, 1], self.state.shape)\n",
      "    \n",
      "    def ground_state(self):\n",
      "        # this is an inital state when evolving the network to a state of low energy\n",
      "        self.state = -1 * np.ones(self.state.shape)\n",
      "        \n",
      "    def local_field(self, i, j):\n",
      "        # Calculate the local field due to neighboring spins.  We implement periodic boundary\n",
      "        # conditions\n",
      "        b_ij = 0\n",
      "        if i == 0:\n",
      "            b_ij = self.state[1, j] + self.state[-1, j]   \n",
      "        elif i == self.rows - 1:\n",
      "            b_ij = self.state[i - 1, j] + self.state[0, j]\n",
      "        else:\n",
      "            b_ij = self.state[i - 1, j] + self.state[i + 1, j]\n",
      "            \n",
      "        if j == 0:\n",
      "            b_ij = b_ij + self.state[i, 1] + self.state[i, -1]   \n",
      "        elif j == self.cols - 1:\n",
      "            b_ij = b_ij + self.state[i, j - 1] + self.state[i, 0]\n",
      "        else:\n",
      "            b_ij = b_ij + self.state[i, j - 1] + self.state[i, j + 1]\n",
      "        return b_ij\n",
      "\n",
      "    def neighbors(self, i, j):\n",
      "        nearby = [(0, 0)] * 4\n",
      "        if j == 0:\n",
      "            nearby[0] = (i, self.cols - 1)\n",
      "            nearby[1] = (i, 1)\n",
      "        elif j == self.cols - 1:\n",
      "            nearby[0] = (i, j - 1)\n",
      "            nearby[1] = (i, 0)\n",
      "        else:\n",
      "            nearby[0] = (i, j - 1)\n",
      "            nearby[1] = (i, j + 1)\n",
      "            \n",
      "        if i == 0:\n",
      "            nearby[2] = (self.rows - 1, j)\n",
      "            nearby[3] = (1, j)\n",
      "        elif i == self.rows - 1:\n",
      "            nearby[2] = (i - 1, j)\n",
      "            nearby[3] = (0, j)\n",
      "        else:\n",
      "            nearby[2] = (i - 1, j)\n",
      "            nearby[3] = (i + 1, j)\n",
      "        \n",
      "        return nearby\n",
      "\n",
      "    def local_field2(self, i, j):\n",
      "        b_ij = 0\n",
      "        for i, j in self.neighbors(i, j):\n",
      "            b_ij = b_ij + self.state[i, j]\n",
      "        return b_ij\n",
      "    \n",
      "    def gibbs(self, N):\n",
      "        # Runs Gibbs sampling over the ising model N times.\n",
      "        # In Gibbs sampling, a random spin is selected.  The local field is calculated as\n",
      "        # the sum over the neighboring spins plus an external field\n",
      "        spins_i = np.random.randint(self.rows, size=N)\n",
      "        spins_j = np.random.randint(self.cols, size=N)\n",
      "        \n",
      "        for i, j in it.izip(spins_i, spins_j):\n",
      "            local_b = self.local_field(i, j)\n",
      "            prob_1 = 1. / (1. + np.exp(-2. * local_b / self.temp))\n",
      "            if prob_1 > np.random.rand():\n",
      "                self.state[i, j] = 1\n",
      "            else:\n",
      "                self.state[i, j] = -1\n",
      "    \n",
      "    def metropolis(self, N):\n",
      "        # Runs Metropolis sampling over the Ising model N times.\n",
      "        # In Metropolis sampling a spin is selected and the change in energy from flipping the spin is calculated.\n",
      "        # The change is accepted if the energy difference is negative and accepted with a probability equal to the ratio\n",
      "        # of the Boltzmann factors of the two states if it is positive\n",
      "        spins_i = np.random.randint(self.rows, size=N)\n",
      "        spins_j = np.random.randint(self.cols, size=N)\n",
      "        \n",
      "        for i, j in it.izip(spins_i, spins_j):\n",
      "            local_b = self.local_field(i, j)\n",
      "            delta_E = 2 * self.state[i, j] * local_b\n",
      "            if delta_E <= 0 or np.random.rand() <= np.exp(- delta_E / self.temp):\n",
      "                self.state[i, j] = -1 * self.state[i, j]\n",
      "    \n",
      "    def gibbs_display(self, N):\n",
      "        # Runs Gibbs sampling N times.  Every time it iterates the same number of times as the number of sites,\n",
      "        # it stores the energy in an array that it displays afterward.  Early on the energy should trend toward\n",
      "        # the equilibrium value and we will know we have run enough samples when it stabilizes.\n",
      "        spins_i = np.random.randint(self.rows, size=N)\n",
      "        spins_j = np.random.randint(self.cols, size=N)\n",
      "        idx = range(N)\n",
      "        \n",
      "        if self.temp < 2:\n",
      "            self.ground_state()\n",
      "        else:\n",
      "            self.randomize()\n",
      "        E = np.array([])\n",
      "        for n, i, j in it.izip(idx, spins_i, spins_j):\n",
      "            local_b = self.local_field(i, j)\n",
      "            prob_1 = 1. / (1. + np.exp(-2. * local_b / self.temp))\n",
      "            if prob_1 > np.random.rand():\n",
      "                self.state[i, j] = 1\n",
      "            else:\n",
      "                self.state[i, j] = -1\n",
      "            if n % self.sites == 0:\n",
      "                E = np.append(E, self.energy())\n",
      "        fig, ax = subplots()\n",
      "        ax.plot(E)\n",
      "\n",
      "    def metropolis_display(self, N):\n",
      "        # Same as gibbs_display above\n",
      "        spins_i = np.random.randint(self.rows, size=N)\n",
      "        spins_j = np.random.randint(self.cols, size=N)\n",
      "        idx = range(N)\n",
      "        \n",
      "        if self.temp < 2:\n",
      "            self.ground_state()\n",
      "        else:\n",
      "            self.randomize()\n",
      "        E = np.array([])\n",
      "        for n, i, j in it.izip(idx, spins_i, spins_j):\n",
      "            local_b = self.local_field(i, j)\n",
      "            delta_E = 2 * self.state[i, j] * local_b\n",
      "            if delta_E <= 0 or np.random.rand() <= np.exp(- delta_E / self.temp):\n",
      "                self.state[i, j] = -1 * self.state[i, j]\n",
      "            if n % self.sites == 0:\n",
      "                E = np.append(E, self.energy())\n",
      "        fig, ax = subplots()\n",
      "        ax.plot(E)\n",
      "            \n",
      "    def display(self):\n",
      "        plt.imshow(self.state , cmap='Greys', interpolation='nearest')\n",
      "        \n",
      "    def energy(self):\n",
      "        E = 0\n",
      "        for (i, j), x_ij in np.ndenumerate(self.state):\n",
      "            E = E + x_ij * self.local_field(i, j)\n",
      "        return - E / 2.\n",
      "    \n",
      "    def magnetization(self):\n",
      "        return sum(sum(self.state))\n",
      "    \n",
      "    def energy_stat(self, err=0.001):\n",
      "        # From investigations into the time required to reach equilibrium - Near or above the critical temperature,\n",
      "        # it seems to require ~60 iterations over the system size to reach equilibrum and then ~30 to obtain another\n",
      "        # independent measurement. Below the critical temperature, this may be much more (~250).  To avoid the apparent\n",
      "        # problems at high temperature, I will stick to Gibbs sampling\n",
      "        N_init = 100 * self.sites\n",
      "        N_sample = 20 * self.sites\n",
      "        \n",
      "        E = np.array([])\n",
      "        #if self.temp < 1.75:\n",
      "        #    self.ground_state()\n",
      "        #else:\n",
      "        #    self.randomize()\n",
      "        self.ground_state()   \n",
      "        \n",
      "        self.gibbs(N_init)\n",
      "        E = np.append(E, self.energy())\n",
      "        n = 1\n",
      "        for i in range(50):\n",
      "            self.gibbs(N_sample)\n",
      "            E = np.append(E, self.energy())\n",
      "            n = n + 1\n",
      "        err_mean_frac = 1\n",
      "        err_var_frac = 1\n",
      "        while (err_mean_frac > err) or (err_var_frac > err):\n",
      "            n = n + 1\n",
      "            self.gibbs(N_sample)\n",
      "            E = np.append(E, self.energy())\n",
      "            err_mean_frac = np.abs((np.mean(E[:-1]) - np.mean(E)) / np.mean(E))\n",
      "            err_var_frac = np.abs((np.var(E[:-1]) - np.var(E)) / np.var(E))\n",
      "            if n % 10 == 0:\n",
      "                print n,\n",
      "        print\n",
      "        return np.mean(E), np.var(E), E\n",
      "    \n",
      "    def is_connected(self, (i1, j1), (i2, j2)):\n",
      "        \"\"\"\n",
      "        Returns True if the nodes at the two indices are connected to the same cluster and False otherwise\n",
      "        Performs a breadth first search\n",
      "        \"\"\"\n",
      "        active_border = deque([(i1, j1)])  # Collections data type that supports left and right append/pop\n",
      "        cluster = set([(i1, j1)])\n",
      "        \n",
      "        while active_border:     # While border queue is non_empty\n",
      "            curr_i, curr_j = active_border.pop()\n",
      "            for (i, j) in self.neighbors(curr_i, curr_j):   # Check each neighbor of\n",
      "                if (i, j) == (i2, j2):\n",
      "                    return True\n",
      "                elif not (i, j) in cluster and self.state[i, j] == self.state[curr_i, curr_j]:\n",
      "                    active_border.appendleft((i, j))\n",
      "                    cluster.add((i, j))\n",
      "        return False"
     ],
     "language": "python",
     "metadata": {},
     "outputs": [],
     "prompt_number": 18
    },
    {
     "cell_type": "heading",
     "level": 3,
     "metadata": {},
     "source": [
      "A Brief Explanation of Monte Carlo"
     ]
    },
    {
     "cell_type": "markdown",
     "metadata": {},
     "source": [
      "Suppose we want to evaluate the integral\n",
      "$$\\int_0^1 A(x) p(x) dx$$\n",
      "where $p(x)$ is some probability distribution. One way would be to break the region into intervals and evaluate the sum,\n",
      "$$x_i = i/N\\quad i\\in{1,..,N}$$\n",
      "$$\\left<A\\right> \\approx \\frac{1}{N}\\sum_i A(x_i) p(x_i).$$\n",
      "However, if $p(x)$ is small over some portion of this range, this method is inefficient.  We would do better to introduce the CDF $\\Phi(x)$ and pick our $x_i$ such that $\\frac{1}{N} = \\Phi(x_{i+1}) - \\Phi(x_i)$ and the sum  becomes\n",
      "$$\\left<A\\right> \\approx \\frac{1}{N}\\sum_i A(x_i).$$\n",
      "While solving for the $x_i$ is possible in 1-d it becomes intractable in higher dimensions.\n",
      "\n",
      "To evaluate $\\left<A\\right> = \\int d^d x A(x) p(x)$ by numerical quadrature we require a uniform distribution of points.  The number of points grows exponentially in $d$ and becomes inefficient quickly.  If instead we consider\n",
      "$$\\bar{A} = \\frac{1}{N}\\sum_i A(x_i) p(x_i)$$\n",
      "where the $x_i$ are random iid vectors, by the central limit theorem $\\bar{A}$ is a gaussian distributed random variable with average $\\left<A\\right>$ and variance proportional to $1/N$.  This is quite slow but is independent of $d$ and can be improved by drawing the points from the distribution $p(x)$.  The integral then becomes\n",
      "$$\\left<A\\right> \\approx \\bar{A} =  \\frac{1}{N}\\sum_i A(x_i).$$\n",
      "with the same average and asymptotic behavior (although slightly improved) as previously.\n",
      "\n",
      "The problem then becomes generating independent samples from a given distribution.  Computers are bad at the independent part, but so long as their correlation goes to 0 reasonably quickly, they will work.  To do this we use Markov Chains."
     ]
    },
    {
     "cell_type": "heading",
     "level": 4,
     "metadata": {},
     "source": [
      "Markov Chains"
     ]
    },
    {
     "cell_type": "markdown",
     "metadata": {},
     "source": [
      "By creating a Markov Chain with the appropriate equilibrium distribution, we can generate samples of any distribution we would like.  First, a definition:\n",
      "\n",
      "Given a set of discrete states $Q$, the Markov Chain $X$ is the sequence of random variables $X_t$ such that,\n",
      "\n",
      "* $X_t \\in Q$\n",
      "* $P(X_t| X_{t-1}, X_{t-2}, ....) = P(X_t|X_{t-1})$ or the conditional probability distributions only depend on the previous state of the system\n",
      "\n",
      "This allows us to calculate the evolution of a Markov Process through matrix multiplication:\n",
      "$$p_a(t+1) = \\sum_{b\\in Q}W_{ab}p_b(t)$$\n",
      "Where the transition coefficients must obey\n",
      "\n",
      "* $W_{ab} \\ge 0$\n",
      "* $\\sum_{a\\in Q} W_{ab} = 1$"
     ]
    },
    {
     "cell_type": "heading",
     "level": 3,
     "metadata": {},
     "source": [
      "Reaching Equilibrium"
     ]
    },
    {
     "cell_type": "markdown",
     "metadata": {},
     "source": [
      "First we need to see how long it takes for our systems to reach equilibrium from an initially randomized state.  To this end, the gibbs_display(N) and metropolis_display(N) functions take an initally randomized system and run each sampling algorithm N times, plotting the energy every time it runs through a factor of the system size.  This should be investigated for different temperatures and system sizes for each sampling strategy."
     ]
    },
    {
     "cell_type": "heading",
     "level": 4,
     "metadata": {},
     "source": [
      "Temperature"
     ]
    },
    {
     "cell_type": "heading",
     "level": 5,
     "metadata": {},
     "source": [
      "Near Critical"
     ]
    },
    {
     "cell_type": "markdown",
     "metadata": {},
     "source": [
      "First something near where I think the critical point is:"
     ]
    },
    {
     "cell_type": "code",
     "collapsed": false,
     "input": [
      "test = Ising((50, 50), 2.27)"
     ],
     "language": "python",
     "metadata": {},
     "outputs": [],
     "prompt_number": 9
    },
    {
     "cell_type": "heading",
     "level": 6,
     "metadata": {},
     "source": [
      "Metropolis"
     ]
    },
    {
     "cell_type": "code",
     "collapsed": false,
     "input": [
      "test.metropolis_display(1000000)"
     ],
     "language": "python",
     "metadata": {},
     "outputs": [
      {
       "metadata": {},
       "output_type": "display_data",
       "png": "[encoded data removed]",
       "text": [
        "<matplotlib.figure.Figure at 0x44b5d50>"
       ]
      }
     ],
     "prompt_number": 10
    },
    {
     "cell_type": "heading",
     "level": 6,
     "metadata": {},
     "source": [
      "Gibbs"
     ]
    },
    {
     "cell_type": "code",
     "collapsed": false,
     "input": [
      "test.gibbs_display(1000000)"
     ],
     "language": "python",
     "metadata": {},
     "outputs": [
      {
       "metadata": {},
       "output_type": "display_data",
       "png": "[encoded data removed]",
       "text": [
        "<matplotlib.figure.Figure at 0x44c4ad0>"
       ]
      }
     ],
     "prompt_number": 11
    },
    {
     "cell_type": "markdown",
     "metadata": {},
     "source": [
      "It's comforting to see that both seem to reach the same energy value and have similar variance.  It looks like around this temperature value and system size, about 40 iterations over the system size is enough to reach equilibrium. It also looks like about 25 times the system size would be enough to ensure independent measurements thereafter, although fewer may be reasonable."
     ]
    },
    {
     "cell_type": "code",
     "collapsed": false,
     "input": [
      "test.display()"
     ],
     "language": "python",
     "metadata": {},
     "outputs": [
      {
       "metadata": {},
       "output_type": "display_data",
       "png": "[encoded data removed]",
       "text": [
        "<matplotlib.figure.Figure at 0x447e710>"
       ]
      }
     ],
     "prompt_number": 12
    },
    {
     "cell_type": "heading",
     "level": 5,
     "metadata": {},
     "source": [
      "Low T"
     ]
    },
    {
     "cell_type": "code",
     "collapsed": false,
     "input": [
      "test.set_temp(1.5)"
     ],
     "language": "python",
     "metadata": {},
     "outputs": [],
     "prompt_number": 29
    },
    {
     "cell_type": "heading",
     "level": 6,
     "metadata": {},
     "source": [
      "Metropolis"
     ]
    },
    {
     "cell_type": "code",
     "collapsed": false,
     "input": [
      "test.metropolis_display(1000000)"
     ],
     "language": "python",
     "metadata": {},
     "outputs": [
      {
       "metadata": {},
       "output_type": "display_data",
       "png": "[encoded data removed]",
       "text": [
        "<matplotlib.figure.Figure at 0x44e9590>"
       ]
      }
     ],
     "prompt_number": 30
    },
    {
     "cell_type": "heading",
     "level": 6,
     "metadata": {},
     "source": [
      "Gibbs"
     ]
    },
    {
     "cell_type": "code",
     "collapsed": false,
     "input": [
      "test.gibbs_display(1000000)"
     ],
     "language": "python",
     "metadata": {},
     "outputs": [
      {
       "metadata": {},
       "output_type": "display_data",
       "png": "[encoded data removed]",
       "text": [
        "<matplotlib.figure.Figure at 0x44f0f90>"
       ]
      }
     ],
     "prompt_number": 31
    },
    {
     "cell_type": "markdown",
     "metadata": {},
     "source": [
      " Note also that at these temperatures we may require more than 200 iterations over the system size to reach equilibrium and this seems to be optimistic as on most runs we don't seem to find the ground state."
     ]
    },
    {
     "cell_type": "code",
     "collapsed": false,
     "input": [
      "test.display()"
     ],
     "language": "python",
     "metadata": {},
     "outputs": [
      {
       "metadata": {},
       "output_type": "display_data",
       "png": "[encoded data removed]",
       "text": [
        "<matplotlib.figure.Figure at 0x44d6f50>"
       ]
      }
     ],
     "prompt_number": 32
    },
    {
     "cell_type": "heading",
     "level": 4,
     "metadata": {},
     "source": [
      "High T"
     ]
    },
    {
     "cell_type": "code",
     "collapsed": false,
     "input": [
      "test.set_temp(100)"
     ],
     "language": "python",
     "metadata": {},
     "outputs": [],
     "prompt_number": 17
    },
    {
     "cell_type": "heading",
     "level": 6,
     "metadata": {},
     "source": [
      "Metropolis"
     ]
    },
    {
     "cell_type": "code",
     "collapsed": false,
     "input": [
      "test.metropolis_display(1000000)"
     ],
     "language": "python",
     "metadata": {},
     "outputs": [
      {
       "metadata": {},
       "output_type": "display_data",
       "png": "[encoded data removed]",
       "text": [
        "<matplotlib.figure.Figure at 0x44b5c10>"
       ]
      }
     ],
     "prompt_number": 18
    },
    {
     "cell_type": "heading",
     "level": 6,
     "metadata": {},
     "source": [
      "Gibbs"
     ]
    },
    {
     "cell_type": "code",
     "collapsed": false,
     "input": [
      "test.gibbs_display(1000000)"
     ],
     "language": "python",
     "metadata": {},
     "outputs": [
      {
       "metadata": {},
       "output_type": "display_data",
       "png": "[encoded data removed]",
       "text": [
        "<matplotlib.figure.Figure at 0x4545c90>"
       ]
      }
     ],
     "prompt_number": 19
    },
    {
     "cell_type": "markdown",
     "metadata": {},
     "source": [
      "Here we see a clear difference.  The metropolis algorithm does not seem able to find higher energy states.   Check both T = 10 and T = 100."
     ]
    },
    {
     "cell_type": "code",
     "collapsed": false,
     "input": [
      "test.display()"
     ],
     "language": "python",
     "metadata": {},
     "outputs": [
      {
       "metadata": {},
       "output_type": "display_data",
       "png": "[encoded data removed]",
       "text": [
        "<matplotlib.figure.Figure at 0x452fa50>"
       ]
      }
     ],
     "prompt_number": 20
    },
    {
     "cell_type": "heading",
     "level": 4,
     "metadata": {},
     "source": [
      "System Size"
     ]
    },
    {
     "cell_type": "heading",
     "level": 5,
     "metadata": {},
     "source": [
      "Smaller"
     ]
    },
    {
     "cell_type": "code",
     "collapsed": false,
     "input": [
      "test = Ising((25, 25), 2.27)"
     ],
     "language": "python",
     "metadata": {},
     "outputs": [],
     "prompt_number": 21
    },
    {
     "cell_type": "heading",
     "level": 6,
     "metadata": {},
     "source": [
      "Metropolis"
     ]
    },
    {
     "cell_type": "code",
     "collapsed": false,
     "input": [
      "test.metropolis_display(1000000)"
     ],
     "language": "python",
     "metadata": {},
     "outputs": [
      {
       "metadata": {},
       "output_type": "display_data",
       "png": "[encoded data removed]",
       "text": [
        "<matplotlib.figure.Figure at 0x453f090>"
       ]
      }
     ],
     "prompt_number": 22
    },
    {
     "cell_type": "heading",
     "level": 6,
     "metadata": {},
     "source": [
      "Gibbs"
     ]
    },
    {
     "cell_type": "code",
     "collapsed": false,
     "input": [
      "test.gibbs_display(1000000)"
     ],
     "language": "python",
     "metadata": {},
     "outputs": [
      {
       "metadata": {},
       "output_type": "display_data",
       "png": "[encoded data removed]",
       "text": [
        "<matplotlib.figure.Figure at 0x44db310>"
       ]
      }
     ],
     "prompt_number": 23
    },
    {
     "cell_type": "code",
     "collapsed": false,
     "input": [
      "test.display()"
     ],
     "language": "python",
     "metadata": {},
     "outputs": [
      {
       "metadata": {},
       "output_type": "display_data",
       "png": "[encoded data removed]",
       "text": [
        "<matplotlib.figure.Figure at 0x4484a10>"
       ]
      }
     ],
     "prompt_number": 24
    },
    {
     "cell_type": "heading",
     "level": 4,
     "metadata": {},
     "source": [
      "Larger"
     ]
    },
    {
     "cell_type": "code",
     "collapsed": false,
     "input": [
      "test = Ising((100, 100), 2.27)"
     ],
     "language": "python",
     "metadata": {},
     "outputs": [],
     "prompt_number": 25
    },
    {
     "cell_type": "heading",
     "level": 6,
     "metadata": {},
     "source": [
      "Metropolis"
     ]
    },
    {
     "cell_type": "code",
     "collapsed": false,
     "input": [
      "test.metropolis_display(1000000)"
     ],
     "language": "python",
     "metadata": {},
     "outputs": [
      {
       "metadata": {},
       "output_type": "display_data",
       "png": "[encoded data removed]",
       "text": [
        "<matplotlib.figure.Figure at 0x4531f50>"
       ]
      }
     ],
     "prompt_number": 26
    },
    {
     "cell_type": "heading",
     "level": 6,
     "metadata": {},
     "source": [
      "Gibbs"
     ]
    },
    {
     "cell_type": "code",
     "collapsed": false,
     "input": [
      "test.gibbs_display(1000000)"
     ],
     "language": "python",
     "metadata": {},
     "outputs": [
      {
       "metadata": {},
       "output_type": "display_data",
       "png": "[encoded data removed]",
       "text": [
        "<matplotlib.figure.Figure at 0x44d5590>"
       ]
      }
     ],
     "prompt_number": 27
    },
    {
     "cell_type": "markdown",
     "metadata": {},
     "source": [
      "It appears that 60 iterations over the system size is enough even for large systems and the most important influence on the required number of iterations is the temperature."
     ]
    },
    {
     "cell_type": "code",
     "collapsed": false,
     "input": [
      "test.display()"
     ],
     "language": "python",
     "metadata": {},
     "outputs": [
      {
       "metadata": {},
       "output_type": "display_data",
       "png": "[encoded data removed]",
       "text": [
        "<matplotlib.figure.Figure at 0x44ddd50>"
       ]
      }
     ],
     "prompt_number": 28
    },
    {
     "cell_type": "heading",
     "level": 3,
     "metadata": {},
     "source": [
      "Critical Temperature"
     ]
    },
    {
     "cell_type": "markdown",
     "metadata": {},
     "source": [
      "The critical point can be identified by a singularity in the heat capacity $C_V = \\frac{\\partial <E>}{\\partial T}$.  As $<E> = -\\frac{\\partial}{\\partial \\beta} \\ln Z = \\sum_i \\frac{\\epsilon_i e^{-\\beta \\epsilon_i}}{Z}$.  The heat capacity can then be rewritten as $C_V = \\frac{\\partial \\beta}{\\partial T} \\frac{\\partial}{\\partial \\beta} <E> = -\\frac{1}{(kT)^2} \\frac{\\partial^2}{\\partial \\beta^2} \\ln Z = -\\frac{var(E)}{(kT)^2}$. The driver behind this singularity is thus the variance of the energy.  For a system of finite size, the variance will peak at the critical point.  Note that for finite systems, the heat capacity can have a local maximum without the variance having one (such as the Schottky anomaly).  This will not yield a phase transition. Our goal is to identify the approximate critical temperature by finding a peak in the variance."
     ]
    },
    {
     "cell_type": "code",
     "collapsed": false,
     "input": [
      "crit = Ising((128, 128), 1)"
     ],
     "language": "python",
     "metadata": {},
     "outputs": [],
     "prompt_number": 4
    },
    {
     "cell_type": "code",
     "collapsed": false,
     "input": [
      "temprange = np.concatenate((np.arange(0.1, 1.6, 0.5), np.arange(1.6, 2.1, 0.1), np.arange(2.1, 2.4, 0.05),\n",
      "                            np.arange(2.4, 2.99, 0.1), np.arange(3, 4, 0.2)))\n",
      "E_means = np.zeros_like(temprange)\n",
      "E_vars = np.zeros_like(temprange)\n",
      "for idx, t in enumerate(temprange):\n",
      "    print str(t) + \"      \",\n",
      "    crit.set_temp(t)\n",
      "    E_means[idx], E_vars[idx], discard = crit.energy_stat()"
     ],
     "language": "python",
     "metadata": {},
     "outputs": [
      {
       "output_type": "stream",
       "stream": "stdout",
       "text": [
        "0.1      \n"
       ]
      },
      {
       "output_type": "stream",
       "stream": "stdout",
       "text": [
        "0.6       "
       ]
      },
      {
       "output_type": "stream",
       "stream": "stdout",
       "text": [
        "60 "
       ]
      },
      {
       "output_type": "stream",
       "stream": "stdout",
       "text": [
        "70 "
       ]
      },
      {
       "output_type": "stream",
       "stream": "stdout",
       "text": [
        "80 "
       ]
      },
      {
       "output_type": "stream",
       "stream": "stdout",
       "text": [
        "90 "
       ]
      },
      {
       "output_type": "stream",
       "stream": "stdout",
       "text": [
        "100 "
       ]
      },
      {
       "output_type": "stream",
       "stream": "stdout",
       "text": [
        "110 "
       ]
      },
      {
       "output_type": "stream",
       "stream": "stdout",
       "text": [
        "120 "
       ]
      },
      {
       "output_type": "stream",
       "stream": "stdout",
       "text": [
        "130 "
       ]
      },
      {
       "output_type": "stream",
       "stream": "stdout",
       "text": [
        "140 "
       ]
      },
      {
       "output_type": "stream",
       "stream": "stdout",
       "text": [
        "150 "
       ]
      },
      {
       "output_type": "stream",
       "stream": "stdout",
       "text": [
        "160 "
       ]
      },
      {
       "output_type": "stream",
       "stream": "stdout",
       "text": [
        "170 "
       ]
      },
      {
       "output_type": "stream",
       "stream": "stdout",
       "text": [
        "180 "
       ]
      },
      {
       "output_type": "stream",
       "stream": "stdout",
       "text": [
        "190 "
       ]
      },
      {
       "output_type": "stream",
       "stream": "stdout",
       "text": [
        "200 "
       ]
      },
      {
       "output_type": "stream",
       "stream": "stdout",
       "text": [
        "210 "
       ]
      },
      {
       "output_type": "stream",
       "stream": "stdout",
       "text": [
        "220 "
       ]
      },
      {
       "output_type": "stream",
       "stream": "stdout",
       "text": [
        "230 "
       ]
      },
      {
       "output_type": "stream",
       "stream": "stdout",
       "text": [
        "240 "
       ]
      },
      {
       "output_type": "stream",
       "stream": "stdout",
       "text": [
        "250 "
       ]
      },
      {
       "output_type": "stream",
       "stream": "stdout",
       "text": [
        "260 "
       ]
      },
      {
       "output_type": "stream",
       "stream": "stdout",
       "text": [
        "270 "
       ]
      },
      {
       "output_type": "stream",
       "stream": "stdout",
       "text": [
        "280 "
       ]
      },
      {
       "output_type": "stream",
       "stream": "stdout",
       "text": [
        "290 "
       ]
      },
      {
       "output_type": "stream",
       "stream": "stdout",
       "text": [
        "300 "
       ]
      },
      {
       "output_type": "stream",
       "stream": "stdout",
       "text": [
        "310 "
       ]
      },
      {
       "output_type": "stream",
       "stream": "stdout",
       "text": [
        "320 "
       ]
      },
      {
       "output_type": "stream",
       "stream": "stdout",
       "text": [
        "330 "
       ]
      },
      {
       "output_type": "stream",
       "stream": "stdout",
       "text": [
        "340 "
       ]
      },
      {
       "output_type": "stream",
       "stream": "stdout",
       "text": [
        "350 "
       ]
      },
      {
       "output_type": "stream",
       "stream": "stdout",
       "text": [
        "360 "
       ]
      },
      {
       "output_type": "stream",
       "stream": "stdout",
       "text": [
        "370 "
       ]
      },
      {
       "output_type": "stream",
       "stream": "stdout",
       "text": [
        "380 "
       ]
      },
      {
       "output_type": "stream",
       "stream": "stdout",
       "text": [
        "390 "
       ]
      },
      {
       "output_type": "stream",
       "stream": "stdout",
       "text": [
        "400 "
       ]
      },
      {
       "output_type": "stream",
       "stream": "stdout",
       "text": [
        "410 "
       ]
      },
      {
       "output_type": "stream",
       "stream": "stdout",
       "text": [
        "420 "
       ]
      },
      {
       "output_type": "stream",
       "stream": "stdout",
       "text": [
        "430 "
       ]
      },
      {
       "output_type": "stream",
       "stream": "stdout",
       "text": [
        "440 "
       ]
      },
      {
       "output_type": "stream",
       "stream": "stdout",
       "text": [
        "450 "
       ]
      },
      {
       "output_type": "stream",
       "stream": "stdout",
       "text": [
        "460 "
       ]
      },
      {
       "output_type": "stream",
       "stream": "stdout",
       "text": [
        "470 "
       ]
      },
      {
       "output_type": "stream",
       "stream": "stdout",
       "text": [
        "480 "
       ]
      },
      {
       "output_type": "stream",
       "stream": "stdout",
       "text": [
        "490 "
       ]
      },
      {
       "output_type": "stream",
       "stream": "stdout",
       "text": [
        "500 "
       ]
      },
      {
       "output_type": "stream",
       "stream": "stdout",
       "text": [
        "510 "
       ]
      },
      {
       "output_type": "stream",
       "stream": "stdout",
       "text": [
        "520 "
       ]
      },
      {
       "output_type": "stream",
       "stream": "stdout",
       "text": [
        "530 "
       ]
      },
      {
       "output_type": "stream",
       "stream": "stdout",
       "text": [
        "540 "
       ]
      },
      {
       "output_type": "stream",
       "stream": "stdout",
       "text": [
        "550 "
       ]
      },
      {
       "output_type": "stream",
       "stream": "stdout",
       "text": [
        "560 "
       ]
      },
      {
       "output_type": "stream",
       "stream": "stdout",
       "text": [
        "570 "
       ]
      },
      {
       "output_type": "stream",
       "stream": "stdout",
       "text": [
        "580 "
       ]
      },
      {
       "output_type": "stream",
       "stream": "stdout",
       "text": [
        "590 "
       ]
      },
      {
       "output_type": "stream",
       "stream": "stdout",
       "text": [
        "600 "
       ]
      },
      {
       "output_type": "stream",
       "stream": "stdout",
       "text": [
        "610 "
       ]
      },
      {
       "output_type": "stream",
       "stream": "stdout",
       "text": [
        "620 "
       ]
      },
      {
       "output_type": "stream",
       "stream": "stdout",
       "text": [
        "630 "
       ]
      },
      {
       "output_type": "stream",
       "stream": "stdout",
       "text": [
        "640 "
       ]
      },
      {
       "output_type": "stream",
       "stream": "stdout",
       "text": [
        "650 "
       ]
      },
      {
       "output_type": "stream",
       "stream": "stdout",
       "text": [
        "660 "
       ]
      },
      {
       "output_type": "stream",
       "stream": "stdout",
       "text": [
        "670 "
       ]
      },
      {
       "output_type": "stream",
       "stream": "stdout",
       "text": [
        "680 "
       ]
      },
      {
       "output_type": "stream",
       "stream": "stdout",
       "text": [
        "690 "
       ]
      },
      {
       "output_type": "stream",
       "stream": "stdout",
       "text": [
        "700 "
       ]
      },
      {
       "output_type": "stream",
       "stream": "stdout",
       "text": [
        "710 "
       ]
      },
      {
       "output_type": "stream",
       "stream": "stdout",
       "text": [
        "720 "
       ]
      },
      {
       "output_type": "stream",
       "stream": "stdout",
       "text": [
        "730 "
       ]
      },
      {
       "output_type": "stream",
       "stream": "stdout",
       "text": [
        "740 "
       ]
      },
      {
       "output_type": "stream",
       "stream": "stdout",
       "text": [
        "750 "
       ]
      },
      {
       "output_type": "stream",
       "stream": "stdout",
       "text": [
        "760 "
       ]
      },
      {
       "output_type": "stream",
       "stream": "stdout",
       "text": [
        "770 "
       ]
      },
      {
       "output_type": "stream",
       "stream": "stdout",
       "text": [
        "780 "
       ]
      },
      {
       "output_type": "stream",
       "stream": "stdout",
       "text": [
        "790 "
       ]
      },
      {
       "output_type": "stream",
       "stream": "stdout",
       "text": [
        "800 "
       ]
      },
      {
       "output_type": "stream",
       "stream": "stdout",
       "text": [
        "810 "
       ]
      },
      {
       "output_type": "stream",
       "stream": "stdout",
       "text": [
        "820 "
       ]
      },
      {
       "output_type": "stream",
       "stream": "stdout",
       "text": [
        "830 "
       ]
      },
      {
       "output_type": "stream",
       "stream": "stdout",
       "text": [
        "840 "
       ]
      },
      {
       "output_type": "stream",
       "stream": "stdout",
       "text": [
        "850 "
       ]
      },
      {
       "output_type": "stream",
       "stream": "stdout",
       "text": [
        "860 "
       ]
      },
      {
       "output_type": "stream",
       "stream": "stdout",
       "text": [
        "870 "
       ]
      },
      {
       "output_type": "stream",
       "stream": "stdout",
       "text": [
        "880 "
       ]
      },
      {
       "output_type": "stream",
       "stream": "stdout",
       "text": [
        "890 "
       ]
      },
      {
       "output_type": "stream",
       "stream": "stdout",
       "text": [
        "900 "
       ]
      },
      {
       "output_type": "stream",
       "stream": "stdout",
       "text": [
        "910 "
       ]
      },
      {
       "output_type": "stream",
       "stream": "stdout",
       "text": [
        "920 "
       ]
      },
      {
       "output_type": "stream",
       "stream": "stdout",
       "text": [
        "930 "
       ]
      },
      {
       "output_type": "stream",
       "stream": "stdout",
       "text": [
        "940 "
       ]
      },
      {
       "output_type": "stream",
       "stream": "stdout",
       "text": [
        "950 "
       ]
      },
      {
       "output_type": "stream",
       "stream": "stdout",
       "text": [
        "960 "
       ]
      },
      {
       "output_type": "stream",
       "stream": "stdout",
       "text": [
        "970\n"
       ]
      },
      {
       "output_type": "stream",
       "stream": "stdout",
       "text": [
        "1.1       "
       ]
      },
      {
       "output_type": "stream",
       "stream": "stdout",
       "text": [
        "60 "
       ]
      },
      {
       "output_type": "stream",
       "stream": "stdout",
       "text": [
        "70 "
       ]
      },
      {
       "output_type": "stream",
       "stream": "stdout",
       "text": [
        "80 "
       ]
      },
      {
       "output_type": "stream",
       "stream": "stdout",
       "text": [
        "90 "
       ]
      },
      {
       "output_type": "stream",
       "stream": "stdout",
       "text": [
        "100\n"
       ]
      },
      {
       "output_type": "stream",
       "stream": "stdout",
       "text": [
        "1.6      \n"
       ]
      },
      {
       "output_type": "stream",
       "stream": "stdout",
       "text": [
        "1.7       "
       ]
      },
      {
       "output_type": "stream",
       "stream": "stdout",
       "text": [
        "60\n",
        "1.8       "
       ]
      },
      {
       "output_type": "stream",
       "stream": "stdout",
       "text": [
        "60 "
       ]
      },
      {
       "output_type": "stream",
       "stream": "stdout",
       "text": [
        "70\n",
        "1.9      \n"
       ]
      },
      {
       "output_type": "stream",
       "stream": "stdout",
       "text": [
        "2.0       "
       ]
      },
      {
       "output_type": "stream",
       "stream": "stdout",
       "text": [
        "60 "
       ]
      },
      {
       "output_type": "stream",
       "stream": "stdout",
       "text": [
        "70\n"
       ]
      },
      {
       "output_type": "stream",
       "stream": "stdout",
       "text": [
        "2.1       "
       ]
      },
      {
       "output_type": "stream",
       "stream": "stdout",
       "text": [
        "60 "
       ]
      },
      {
       "output_type": "stream",
       "stream": "stdout",
       "text": [
        "70 "
       ]
      },
      {
       "output_type": "stream",
       "stream": "stdout",
       "text": [
        "80 "
       ]
      },
      {
       "output_type": "stream",
       "stream": "stdout",
       "text": [
        "90\n"
       ]
      },
      {
       "output_type": "stream",
       "stream": "stdout",
       "text": [
        "2.15      \n"
       ]
      },
      {
       "output_type": "stream",
       "stream": "stdout",
       "text": [
        "2.2      \n"
       ]
      },
      {
       "output_type": "stream",
       "stream": "stdout",
       "text": [
        "2.25       "
       ]
      },
      {
       "output_type": "stream",
       "stream": "stdout",
       "text": [
        "60 "
       ]
      },
      {
       "output_type": "stream",
       "stream": "stdout",
       "text": [
        "70\n"
       ]
      },
      {
       "output_type": "stream",
       "stream": "stdout",
       "text": [
        "2.3      \n"
       ]
      },
      {
       "output_type": "stream",
       "stream": "stdout",
       "text": [
        "2.35       "
       ]
      },
      {
       "output_type": "stream",
       "stream": "stdout",
       "text": [
        "60 "
       ]
      },
      {
       "output_type": "stream",
       "stream": "stdout",
       "text": [
        "70 "
       ]
      },
      {
       "output_type": "stream",
       "stream": "stdout",
       "text": [
        "80 "
       ]
      },
      {
       "output_type": "stream",
       "stream": "stdout",
       "text": [
        "90 "
       ]
      },
      {
       "output_type": "stream",
       "stream": "stdout",
       "text": [
        "100 "
       ]
      },
      {
       "output_type": "stream",
       "stream": "stdout",
       "text": [
        "110 "
       ]
      },
      {
       "output_type": "stream",
       "stream": "stdout",
       "text": [
        "120 "
       ]
      },
      {
       "output_type": "stream",
       "stream": "stdout",
       "text": [
        "130\n",
        "2.4       "
       ]
      },
      {
       "output_type": "stream",
       "stream": "stdout",
       "text": [
        "60 "
       ]
      },
      {
       "output_type": "stream",
       "stream": "stdout",
       "text": [
        "70 "
       ]
      },
      {
       "output_type": "stream",
       "stream": "stdout",
       "text": [
        "80 "
       ]
      },
      {
       "output_type": "stream",
       "stream": "stdout",
       "text": [
        "90\n"
       ]
      },
      {
       "output_type": "stream",
       "stream": "stdout",
       "text": [
        "2.5      \n"
       ]
      },
      {
       "output_type": "stream",
       "stream": "stdout",
       "text": [
        "2.6       "
       ]
      },
      {
       "output_type": "stream",
       "stream": "stdout",
       "text": [
        "60 "
       ]
      },
      {
       "output_type": "stream",
       "stream": "stdout",
       "text": [
        "70 "
       ]
      },
      {
       "output_type": "stream",
       "stream": "stdout",
       "text": [
        "80 "
       ]
      },
      {
       "output_type": "stream",
       "stream": "stdout",
       "text": [
        "90 "
       ]
      },
      {
       "output_type": "stream",
       "stream": "stdout",
       "text": [
        "100\n",
        "2.7       "
       ]
      },
      {
       "output_type": "stream",
       "stream": "stdout",
       "text": [
        "60 "
       ]
      },
      {
       "output_type": "stream",
       "stream": "stdout",
       "text": [
        "70 "
       ]
      },
      {
       "output_type": "stream",
       "stream": "stdout",
       "text": [
        "80\n"
       ]
      },
      {
       "output_type": "stream",
       "stream": "stdout",
       "text": [
        "2.8       "
       ]
      },
      {
       "output_type": "stream",
       "stream": "stdout",
       "text": [
        "60\n"
       ]
      },
      {
       "output_type": "stream",
       "stream": "stdout",
       "text": [
        "2.9       "
       ]
      },
      {
       "output_type": "stream",
       "stream": "stdout",
       "text": [
        "60\n"
       ]
      },
      {
       "output_type": "stream",
       "stream": "stdout",
       "text": [
        "3.0       "
       ]
      },
      {
       "output_type": "stream",
       "stream": "stdout",
       "text": [
        "60 "
       ]
      },
      {
       "output_type": "stream",
       "stream": "stdout",
       "text": [
        "70\n"
       ]
      },
      {
       "output_type": "stream",
       "stream": "stdout",
       "text": [
        "3.2       "
       ]
      },
      {
       "output_type": "stream",
       "stream": "stdout",
       "text": [
        "60\n"
       ]
      },
      {
       "output_type": "stream",
       "stream": "stdout",
       "text": [
        "3.4      \n"
       ]
      },
      {
       "output_type": "stream",
       "stream": "stdout",
       "text": [
        "3.6       "
       ]
      },
      {
       "output_type": "stream",
       "stream": "stdout",
       "text": [
        "60 "
       ]
      },
      {
       "output_type": "stream",
       "stream": "stdout",
       "text": [
        "70 "
       ]
      },
      {
       "output_type": "stream",
       "stream": "stdout",
       "text": [
        "80 "
       ]
      },
      {
       "output_type": "stream",
       "stream": "stdout",
       "text": [
        "90 "
       ]
      },
      {
       "output_type": "stream",
       "stream": "stdout",
       "text": [
        "100\n",
        "3.8       "
       ]
      },
      {
       "output_type": "stream",
       "stream": "stdout",
       "text": [
        "60 "
       ]
      },
      {
       "output_type": "stream",
       "stream": "stdout",
       "text": [
        "70 "
       ]
      },
      {
       "output_type": "stream",
       "stream": "stdout",
       "text": [
        "80 "
       ]
      },
      {
       "output_type": "stream",
       "stream": "stdout",
       "text": [
        "90 "
       ]
      },
      {
       "output_type": "stream",
       "stream": "stdout",
       "text": [
        "100 "
       ]
      },
      {
       "output_type": "stream",
       "stream": "stdout",
       "text": [
        "110\n"
       ]
      },
      {
       "output_type": "stream",
       "stream": "stderr",
       "text": [
        "-c:175: RuntimeWarning: invalid value encountered in double_scalars\n"
       ]
      }
     ],
     "prompt_number": 5
    },
    {
     "cell_type": "code",
     "collapsed": false,
     "input": [
      "fig1, axes1 = plt.subplots(1, 2, figsize=(15, 5))\n",
      "axes1[0].plot(temprange, E_means)\n",
      "E_std = np.sqrt(E_vars)\n",
      "axes1[0].errorbar(temprange, E_means, yerr=E_std)\n",
      "axes1[1].plot(temprange, E_vars)\n"
     ],
     "language": "python",
     "metadata": {},
     "outputs": [
      {
       "metadata": {},
       "output_type": "pyout",
       "prompt_number": 6,
       "text": [
        "[<matplotlib.lines.Line2D at 0x2338e50>]"
       ]
      },
      {
       "metadata": {},
       "output_type": "display_data",
       "png": "[encoded data removed]",
       "text": [
        "<matplotlib.figure.Figure at 0x234b0d0>"
       ]
      }
     ],
     "prompt_number": 6
    },
    {
     "cell_type": "code",
     "collapsed": false,
     "input": [
      "np.savez(\"E_meansvars_128x128_t0_4\", temprange, E_means, E_vars)"
     ],
     "language": "python",
     "metadata": {},
     "outputs": [],
     "prompt_number": 7
    },
    {
     "cell_type": "code",
     "collapsed": false,
     "input": [
      "temprange"
     ],
     "language": "python",
     "metadata": {},
     "outputs": [
      {
       "metadata": {},
       "output_type": "pyout",
       "prompt_number": 8,
       "text": [
        "array([ 0.1 ,  0.6 ,  1.1 ,  1.6 ,  1.7 ,  1.8 ,  1.9 ,  2.  ,  2.1 ,\n",
        "        2.15,  2.2 ,  2.25,  2.3 ,  2.35,  2.4 ,  2.5 ,  2.6 ,  2.7 ,\n",
        "        2.8 ,  2.9 ,  3.  ,  3.2 ,  3.4 ,  3.6 ,  3.8 ])"
       ]
      }
     ],
     "prompt_number": 8
    },
    {
     "cell_type": "code",
     "collapsed": false,
     "input": [
      "test3 = Ising((10, 10), 2.4)"
     ],
     "language": "python",
     "metadata": {},
     "outputs": [],
     "prompt_number": 19
    },
    {
     "cell_type": "code",
     "collapsed": false,
     "input": [
      "test3.randomize()\n",
      "test3.gibbs(100000)\n",
      "test3.display()"
     ],
     "language": "python",
     "metadata": {},
     "outputs": [
      {
       "metadata": {},
       "output_type": "display_data",
       "png": "[encoded data removed]",
       "text": [
        "<matplotlib.figure.Figure at 0x32a5d10>"
       ]
      }
     ],
     "prompt_number": 20
    },
    {
     "cell_type": "code",
     "collapsed": false,
     "input": [
      "test3.is_connected((1, 2), (3, 4))"
     ],
     "language": "python",
     "metadata": {},
     "outputs": [
      {
       "metadata": {},
       "output_type": "pyout",
       "prompt_number": 25,
       "text": [
        "False"
       ]
      }
     ],
     "prompt_number": 25
    },
    {
     "cell_type": "code",
     "collapsed": false,
     "input": [
      "d = deque([(1, 2), (3, 4), (5, 6)])"
     ],
     "language": "python",
     "metadata": {},
     "outputs": [],
     "prompt_number": 13
    },
    {
     "cell_type": "code",
     "collapsed": false,
     "input": [],
     "language": "python",
     "metadata": {},
     "outputs": []
    }
   ],
   "metadata": {}
  }
 ]
}