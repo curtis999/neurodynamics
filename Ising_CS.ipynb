{
 "metadata": {
  "name": ""
 },
 "nbformat": 3,
 "nbformat_minor": 0,
 "worksheets": [
  {
   "cells": [
    {
     "cell_type": "heading",
     "level": 1,
     "metadata": {},
     "source": [
      "Compressive Sensing in the Ising Model"
     ]
    },
    {
     "cell_type": "code",
     "collapsed": false,
     "input": [
      "%pylab inline"
     ],
     "language": "python",
     "metadata": {},
     "outputs": [
      {
       "output_type": "stream",
       "stream": "stdout",
       "text": [
        "Populating the interactive namespace from numpy and matplotlib\n"
       ]
      }
     ],
     "prompt_number": 1
    },
    {
     "cell_type": "code",
     "collapsed": false,
     "input": [
      "import numpy as np\n",
      "import scipy as scp\n",
      "import random as rndm\n",
      "import matplotlib.pyplot as plt\n",
      "import itertools as it\n",
      "import matplotlib.image as mpimg\n",
      "from operator import itemgetter\n",
      "from cvxopt import matrix as matrx\n",
      "from l1min import l1m\n",
      "from collections import deque"
     ],
     "language": "python",
     "metadata": {},
     "outputs": [],
     "prompt_number": 72
    },
    {
     "cell_type": "markdown",
     "metadata": {},
     "source": [
      "This is an attempt to integrate what I've got for Ising models and a compressive sensing.  An ising model\n",
      "will contain\n",
      "\n",
      "* state - the state of the system\n",
      "* input - The signal being inputted into the model\n",
      "* indices - The indices of the input in the model\n",
      "* temp\n",
      "* rows, cols, sites"
     ]
    },
    {
     "cell_type": "code",
     "collapsed": false,
     "input": [],
     "language": "python",
     "metadata": {},
     "outputs": [],
     "prompt_number": 2
    },
    {
     "cell_type": "code",
     "collapsed": false,
     "input": [
      "class Ising_cs(object):\n",
      "    # Implements an Ising model with a region set to a particular state.\n",
      "    # Data stored by the model are:\n",
      "    # state - the current state of the model\n",
      "    # signal - a list or array of the signal set into the ising model (should be +/-1s)\n",
      "    # fixed - a list of tuples containing the indices of the signal\n",
      "    # free - the indices not fixed by the model\n",
      "    # temp - the temperature of the model\n",
      "    # rows\n",
      "    # cols\n",
      "    def __init__(self, shape, signal_vec, fixed_idxs, T):\n",
      "        # initialize the state and temperature of the ising model\n",
      "        self.state = np.random.choice([-1, 1], shape)\n",
      "        self.signal = signal_vec\n",
      "        for spin, (i, j) in zip(self.signal, fixed_idxs):\n",
      "            self.state[i, j] = spin\n",
      "        \n",
      "        self.fixed = fixed_idxs\n",
      "        all_idx = list(np.ndindex(shape))\n",
      "        self.free = list(set(all_idx) - set(self.fixed))\n",
      "        \n",
      "        \n",
      "        self.temp = T\n",
      "        self.rows = self.state.shape[0]\n",
      "        self.cols = self.state.shape[1]\n",
      "        self.sites = self.rows * self.cols\n",
      "       \n",
      "    def set_temp(self, T):\n",
      "        self.temp = T\n",
      "    \n",
      "    def new_state(self, newstate):\n",
      "        # the only reason this is here is to ensure that the shape is correct\n",
      "        if newstate.shape == self.state.shape:\n",
      "            self.state = newstate\n",
      "        else:\n",
      "            print \"State does not match dimensions\"\n",
      "        for spin, (i, j) in zip(self.signal, self.fixed):\n",
      "            self.state[i, j] = spin\n",
      "\n",
      "    def randomize(self):\n",
      "        # this is an initial state when evolving the network to a state of high energy\n",
      "        self.state = np.random.choice([-1, 1], self.state.shape)\n",
      "        for spin, (i, j) in zip(self.signal, self.fixed):\n",
      "            self.state[i, j] = spin\n",
      "    \n",
      "    def ground_state(self):\n",
      "        # this is an inital state when evolving the network to a state of low energy\n",
      "        self.state = -1 * np.ones(self.state.shape)\n",
      "        for spin, (i, j) in zip(self.signal, self.fixed):\n",
      "            self.state[i, j] = spin\n",
      "\n",
      "    def local_field(self, i, j):\n",
      "        # Calculate the local field due to neighboring spins.  We implement periodic boundary\n",
      "        # conditions\n",
      "        b_ij = 0\n",
      "        if i == 0:\n",
      "            b_ij = self.state[1, j] + self.state[-1, j]   \n",
      "        elif i == self.rows - 1:\n",
      "            b_ij = self.state[i - 1, j] + self.state[0, j]\n",
      "        else:\n",
      "            b_ij = self.state[i - 1, j] + self.state[i + 1, j]\n",
      "            \n",
      "        if j == 0:\n",
      "            b_ij = b_ij + self.state[i, 1] + self.state[i, -1]   \n",
      "        elif j == self.cols - 1:\n",
      "            b_ij = b_ij + self.state[i, j - 1] + self.state[i, 0]\n",
      "        else:\n",
      "            b_ij = b_ij + self.state[i, j - 1] + self.state[i, j + 1]\n",
      "        return b_ij\n",
      "\n",
      "    def neighbors(self, i, j):\n",
      "        nearby = [(0, 0)] * 4\n",
      "        if j == 0:\n",
      "            nearby[0] = (i, self.cols - 1)\n",
      "            nearby[1] = (i, 1)\n",
      "        elif j == self.cols - 1:\n",
      "            nearby[0] = (i, j - 1)\n",
      "            nearby[1] = (i, 0)\n",
      "        else:\n",
      "            nearby[0] = (i, j - 1)\n",
      "            nearby[1] = (i, j + 1)\n",
      "            \n",
      "        if i == 0:\n",
      "            nearby[2] = (self.rows - 1, j)\n",
      "            nearby[3] = (1, j)\n",
      "        elif i == self.rows - 1:\n",
      "            nearby[2] = (i - 1, j)\n",
      "            nearby[3] = (0, j)\n",
      "        else:\n",
      "            nearby[2] = (i - 1, j)\n",
      "            nearby[3] = (i + 1, j)\n",
      "        \n",
      "        return nearby\n",
      "\n",
      "    def local_field2(self, i, j):\n",
      "        b_ij = 0\n",
      "        for k, l in self.neighbors(i, j):\n",
      "            b_ij = b_ij + self.state[k, l]\n",
      "        return b_ij\n",
      "            \n",
      "    \n",
      "    def gibbs(self, N):\n",
      "        # Runs Gibbs sampling over the ising model N times.\n",
      "        # In Gibbs sampling, a random spin is selected.  The local field is calculated as\n",
      "        # the sum over the neighboring spins plus an external field\n",
      "        \n",
      "        for n in xrange(N):\n",
      "            (i, j), = rndm.sample(self.free, 1)\n",
      "            local_b = self.local_field(i, j)\n",
      "            prob_1 = 1. / (1. + np.exp(-2. * local_b / self.temp))\n",
      "            if prob_1 > np.random.rand():\n",
      "                self.state[i, j] = 1\n",
      "            else:\n",
      "                self.state[i, j] = -1\n",
      "    \n",
      "    def metropolis(self, N):\n",
      "        # Runs Metropolis sampling over the Ising model N times.\n",
      "        # In Metropolis sampling a spin is selected and the change in energy from flipping the spin is calculated.\n",
      "        # The change is accepted if the energy difference is negative and accepted with a probability equal to the ratio\n",
      "        # of the Boltzmann factors of the two states if it is positive\n",
      "        \n",
      "        for n in xrange(N):\n",
      "            (i, j), = rndm.sample(self.free, 1)\n",
      "            local_b = self.local_field(i, j)\n",
      "            delta_E = 2 * self.state[i, j] * local_b\n",
      "            if delta_E <= 0 or np.random.rand() <= np.exp(- delta_E / self.temp):\n",
      "                self.state[i, j] = -1 * self.state[i, j]\n",
      "    \n",
      "    def gibbs_display(self, N):\n",
      "        # Runs Gibbs sampling N times.  Every time it iterates the same number of times as the number of sites,\n",
      "        # it stores the energy in an array that it displays afterward.  Early on the energy should trend toward\n",
      "        # the equilibrium value and we will know we have run enough samples when it stabilizes.\n",
      "\n",
      "        if self.temp < 2:\n",
      "            self.ground_state()\n",
      "        else:\n",
      "            self.randomize()\n",
      "        E = np.array([])\n",
      "        \n",
      "        for n in xrange(N):\n",
      "            (i, j), = rndm.sample(self.free, 1)\n",
      "            local_b = self.local_field(i, j)\n",
      "            prob_1 = 1. / (1. + np.exp(-2. * local_b / self.temp))\n",
      "            if prob_1 > np.random.rand():\n",
      "                self.state[i, j] = 1\n",
      "            else:\n",
      "                self.state[i, j] = -1\n",
      "            if n % self.sites == 0:\n",
      "                E = np.append(E, self.energy())\n",
      "        fig, ax = subplots()\n",
      "        ax.plot(E)\n",
      "\n",
      "    def metropolis_display(self, N):\n",
      "        # Same as gibbs_display above\n",
      "        \n",
      "        if self.temp < 2:\n",
      "            self.ground_state()\n",
      "        else:\n",
      "            self.randomize()\n",
      "        E = np.array([])\n",
      "        \n",
      "        for n in range(N):\n",
      "            (i, j), = rndm.sample(self.free, 1)\n",
      "            local_b = self.local_field(i, j)\n",
      "            delta_E = 2 * self.state[i, j] * local_b\n",
      "            if delta_E <= 0 or np.random.rand() <= np.exp(- delta_E / self.temp):\n",
      "                self.state[i, j] = -1 * self.state[i, j]\n",
      "            if n % self.sites == 0:\n",
      "                E = np.append(E, self.energy())\n",
      "        fig, ax = subplots()\n",
      "        ax.plot(E)\n",
      "            \n",
      "    def display(self):\n",
      "        plt.imshow(self.state , cmap='Greys', interpolation='nearest')\n",
      "        \n",
      "    def energy(self):\n",
      "        E = 0\n",
      "        for (i, j), x_ij in np.ndenumerate(self.state):\n",
      "            E = E + x_ij * self.local_field(i, j)\n",
      "        return - E / 2.\n",
      "    \n",
      "    def magnetization(self):\n",
      "        return sum(sum(self.state))\n",
      "    \n",
      "    def energy_stat(self, err=0.001):\n",
      "        # From investigations into the time required to reach equilibrium - Near or above the critical temperature,\n",
      "        # it seems to require ~60 iterations over the system size to reach equilibrum and then ~30 to obtain another\n",
      "        # independent measurement. Below the critical temperature, this may be much more (~250).  To avoid the apparent\n",
      "        # problems at high temperature, I will stick to Gibbs sampling\n",
      "        N_init = 100 * self.sites\n",
      "        N_sample = 20 * self.sites\n",
      "        \n",
      "        E = np.array([])\n",
      "        #if self.temp < 1.75:\n",
      "        #    self.ground_state()\n",
      "        #else:\n",
      "        #    self.randomize()\n",
      "        self.ground_state()   \n",
      "        \n",
      "        self.gibbs(N_init)\n",
      "        E = np.append(E, self.energy())\n",
      "        n = 1\n",
      "        for i in range(50):\n",
      "            self.gibbs(N_sample)\n",
      "            E = np.append(E, self.energy())\n",
      "            n = n + 1\n",
      "        err_mean_frac = 1\n",
      "        err_var_frac = 1\n",
      "        while (err_mean_frac > err) or (err_var_frac > err):\n",
      "            n = n + 1\n",
      "            self.gibbs(N_sample)\n",
      "            E = np.append(E, self.energy())\n",
      "            err_mean_frac = np.abs((np.mean(E[:-1]) - np.mean(E)) / np.mean(E))\n",
      "            err_var_frac = np.abs((np.var(E[:-1]) - np.var(E)) / np.var(E))\n",
      "            if n % 10 == 0:\n",
      "                print n,\n",
      "        print\n",
      "        return np.mean(E), np.var(E), E\n",
      "    \n",
      "    def is_connected(self, (i1, j1), (i2, j2)):\n",
      "        \"\"\"\n",
      "        Returns True if the nodes at the two indices are connected to the same cluster and False otherwise\n",
      "        Performs a breadth first search\n",
      "        \"\"\"\n",
      "        active_border = deque([(i1, j1)])  # Collections data type that supports left and right append/pop\n",
      "        cluster = set([(i1, j1)])\n",
      "        \n",
      "        while active_border:     # While border queue is non_empty\n",
      "            curr_i, curr_j = active_border.pop()\n",
      "            for (i, j) in self.neighbors(curr_i, curr_j):   # Check each neighbor of\n",
      "                if (i, j) == (i2, j2):\n",
      "                    return True\n",
      "                elif not (i, j) in cluster and self.state[i, j] == self.state[curr_i, curr_j]:\n",
      "                    active_border.appendleft((i, j))\n",
      "                    cluster.add((i, j))\n",
      "        return False"
     ],
     "language": "python",
     "metadata": {},
     "outputs": [],
     "prompt_number": 74
    },
    {
     "cell_type": "code",
     "collapsed": false,
     "input": [
      "signal = np.array([0, 0, 1, 0, 0, 1, 1, 1, 0, 0])\n",
      "signal[signal==0] = -1\n",
      "all_idx = list(np.ndindex(20, 20))\n",
      "fix = rndm.sample(all_idx, len(signal))"
     ],
     "language": "python",
     "metadata": {},
     "outputs": [],
     "prompt_number": 41
    },
    {
     "cell_type": "code",
     "collapsed": false,
     "input": [
      "crit = Ising_cs((40, 40), signal, fix, 100)"
     ],
     "language": "python",
     "metadata": {},
     "outputs": [
      {
       "output_type": "stream",
       "stream": "stdout",
       "text": [
        "\n"
       ]
      }
     ],
     "prompt_number": 70
    },
    {
     "cell_type": "code",
     "collapsed": false,
     "input": [
      "temprange = np.concatenate((np.arange(0.1, 1.6, 0.5), np.arange(1.6, 2.1, 0.1), np.arange(2.1, 2.4, 0.05),\n",
      "                            np.arange(2.4, 2.99, 0.1), np.arange(3, 4, 0.2)))\n",
      "E_means = np.zeros_like(temprange)\n",
      "E_vars = np.zeros_like(temprange)\n",
      "for idx, t in enumerate(temprange):\n",
      "    print str(t) + \"      \",\n",
      "    crit.set_temp(t)\n",
      "    E_means[idx], E_vars[idx], discard = crit.energy_stat()"
     ],
     "language": "python",
     "metadata": {},
     "outputs": [
      {
       "output_type": "stream",
       "stream": "stdout",
       "text": [
        "0.1      \n"
       ]
      },
      {
       "output_type": "stream",
       "stream": "stdout",
       "text": [
        "0.6      \n"
       ]
      },
      {
       "output_type": "stream",
       "stream": "stdout",
       "text": [
        "1.1       "
       ]
      },
      {
       "output_type": "stream",
       "stream": "stdout",
       "text": [
        "60 "
       ]
      },
      {
       "output_type": "stream",
       "stream": "stdout",
       "text": [
        "70\n"
       ]
      },
      {
       "output_type": "stream",
       "stream": "stdout",
       "text": [
        "1.6       "
       ]
      },
      {
       "output_type": "stream",
       "stream": "stdout",
       "text": [
        "60 "
       ]
      },
      {
       "output_type": "stream",
       "stream": "stdout",
       "text": [
        "70 "
       ]
      },
      {
       "output_type": "stream",
       "stream": "stdout",
       "text": [
        "80 "
       ]
      },
      {
       "output_type": "stream",
       "stream": "stdout",
       "text": [
        "90 "
       ]
      },
      {
       "output_type": "stream",
       "stream": "stdout",
       "text": [
        "100 "
       ]
      },
      {
       "output_type": "stream",
       "stream": "stdout",
       "text": [
        "110\n"
       ]
      },
      {
       "output_type": "stream",
       "stream": "stdout",
       "text": [
        "1.7      \n"
       ]
      },
      {
       "output_type": "stream",
       "stream": "stdout",
       "text": [
        "1.8       "
       ]
      },
      {
       "output_type": "stream",
       "stream": "stdout",
       "text": [
        "60 "
       ]
      },
      {
       "output_type": "stream",
       "stream": "stdout",
       "text": [
        "70\n"
       ]
      },
      {
       "output_type": "stream",
       "stream": "stdout",
       "text": [
        "1.9       "
       ]
      },
      {
       "output_type": "stream",
       "stream": "stdout",
       "text": [
        "60 "
       ]
      },
      {
       "output_type": "stream",
       "stream": "stdout",
       "text": [
        "70 "
       ]
      },
      {
       "output_type": "stream",
       "stream": "stdout",
       "text": [
        "80\n"
       ]
      },
      {
       "output_type": "stream",
       "stream": "stdout",
       "text": [
        "2.0       "
       ]
      },
      {
       "output_type": "stream",
       "stream": "stdout",
       "text": [
        "60 "
       ]
      },
      {
       "output_type": "stream",
       "stream": "stdout",
       "text": [
        "70 "
       ]
      },
      {
       "output_type": "stream",
       "stream": "stdout",
       "text": [
        "80 "
       ]
      },
      {
       "output_type": "stream",
       "stream": "stdout",
       "text": [
        "90 "
       ]
      },
      {
       "output_type": "stream",
       "stream": "stdout",
       "text": [
        "100 "
       ]
      },
      {
       "output_type": "stream",
       "stream": "stdout",
       "text": [
        "110 "
       ]
      },
      {
       "output_type": "stream",
       "stream": "stdout",
       "text": [
        "120 "
       ]
      },
      {
       "output_type": "stream",
       "stream": "stdout",
       "text": [
        "130\n"
       ]
      },
      {
       "output_type": "stream",
       "stream": "stdout",
       "text": [
        "2.1       "
       ]
      },
      {
       "output_type": "stream",
       "stream": "stdout",
       "text": [
        "60 "
       ]
      },
      {
       "output_type": "stream",
       "stream": "stdout",
       "text": [
        "70 "
       ]
      },
      {
       "output_type": "stream",
       "stream": "stdout",
       "text": [
        "80 "
       ]
      },
      {
       "output_type": "stream",
       "stream": "stdout",
       "text": [
        "90 "
       ]
      },
      {
       "output_type": "stream",
       "stream": "stdout",
       "text": [
        "100\n",
        "2.15      \n"
       ]
      },
      {
       "output_type": "stream",
       "stream": "stdout",
       "text": [
        "2.2       "
       ]
      },
      {
       "output_type": "stream",
       "stream": "stdout",
       "text": [
        "60 "
       ]
      },
      {
       "output_type": "stream",
       "stream": "stdout",
       "text": [
        "70 "
       ]
      },
      {
       "output_type": "stream",
       "stream": "stdout",
       "text": [
        "80 "
       ]
      },
      {
       "output_type": "stream",
       "stream": "stdout",
       "text": [
        "90 "
       ]
      },
      {
       "output_type": "stream",
       "stream": "stdout",
       "text": [
        "100 "
       ]
      },
      {
       "output_type": "stream",
       "stream": "stdout",
       "text": [
        "110\n"
       ]
      },
      {
       "output_type": "stream",
       "stream": "stdout",
       "text": [
        "2.25      \n"
       ]
      },
      {
       "output_type": "stream",
       "stream": "stdout",
       "text": [
        "2.3      \n"
       ]
      },
      {
       "output_type": "stream",
       "stream": "stdout",
       "text": [
        "2.35       "
       ]
      },
      {
       "output_type": "stream",
       "stream": "stdout",
       "text": [
        "60 "
       ]
      },
      {
       "output_type": "stream",
       "stream": "stdout",
       "text": [
        "70 "
       ]
      },
      {
       "output_type": "stream",
       "stream": "stdout",
       "text": [
        "80\n"
       ]
      },
      {
       "output_type": "stream",
       "stream": "stdout",
       "text": [
        "2.4      \n"
       ]
      },
      {
       "output_type": "stream",
       "stream": "stdout",
       "text": [
        "2.5       "
       ]
      },
      {
       "output_type": "stream",
       "stream": "stdout",
       "text": [
        "60 "
       ]
      },
      {
       "output_type": "stream",
       "stream": "stdout",
       "text": [
        "70 "
       ]
      },
      {
       "output_type": "stream",
       "stream": "stdout",
       "text": [
        "80 "
       ]
      },
      {
       "output_type": "stream",
       "stream": "stdout",
       "text": [
        "90 "
       ]
      },
      {
       "output_type": "stream",
       "stream": "stdout",
       "text": [
        "100 "
       ]
      },
      {
       "output_type": "stream",
       "stream": "stdout",
       "text": [
        "110 "
       ]
      },
      {
       "output_type": "stream",
       "stream": "stdout",
       "text": [
        "120 "
       ]
      },
      {
       "output_type": "stream",
       "stream": "stdout",
       "text": [
        "130\n"
       ]
      },
      {
       "output_type": "stream",
       "stream": "stdout",
       "text": [
        "2.6       "
       ]
      },
      {
       "output_type": "stream",
       "stream": "stdout",
       "text": [
        "60 "
       ]
      },
      {
       "output_type": "stream",
       "stream": "stdout",
       "text": [
        "70 "
       ]
      },
      {
       "output_type": "stream",
       "stream": "stdout",
       "text": [
        "80 "
       ]
      },
      {
       "output_type": "stream",
       "stream": "stdout",
       "text": [
        "90\n"
       ]
      },
      {
       "output_type": "stream",
       "stream": "stdout",
       "text": [
        "2.7       "
       ]
      },
      {
       "output_type": "stream",
       "stream": "stdout",
       "text": [
        "60\n"
       ]
      },
      {
       "output_type": "stream",
       "stream": "stdout",
       "text": [
        "2.8       "
       ]
      },
      {
       "output_type": "stream",
       "stream": "stdout",
       "text": [
        "60 "
       ]
      },
      {
       "output_type": "stream",
       "stream": "stdout",
       "text": [
        "70 "
       ]
      },
      {
       "output_type": "stream",
       "stream": "stdout",
       "text": [
        "80 "
       ]
      },
      {
       "output_type": "stream",
       "stream": "stdout",
       "text": [
        "90 "
       ]
      },
      {
       "output_type": "stream",
       "stream": "stdout",
       "text": [
        "100\n"
       ]
      },
      {
       "output_type": "stream",
       "stream": "stdout",
       "text": [
        "2.9       "
       ]
      },
      {
       "output_type": "stream",
       "stream": "stdout",
       "text": [
        "60 "
       ]
      },
      {
       "output_type": "stream",
       "stream": "stdout",
       "text": [
        "70\n"
       ]
      },
      {
       "output_type": "stream",
       "stream": "stdout",
       "text": [
        "3.0       "
       ]
      },
      {
       "output_type": "stream",
       "stream": "stdout",
       "text": [
        "60 "
       ]
      },
      {
       "output_type": "stream",
       "stream": "stdout",
       "text": [
        "70\n"
       ]
      },
      {
       "output_type": "stream",
       "stream": "stdout",
       "text": [
        "3.2       "
       ]
      },
      {
       "output_type": "stream",
       "stream": "stdout",
       "text": [
        "60 "
       ]
      },
      {
       "output_type": "stream",
       "stream": "stdout",
       "text": [
        "70 "
       ]
      },
      {
       "output_type": "stream",
       "stream": "stdout",
       "text": [
        "80 "
       ]
      },
      {
       "output_type": "stream",
       "stream": "stdout",
       "text": [
        "90\n",
        "3.4       "
       ]
      },
      {
       "output_type": "stream",
       "stream": "stdout",
       "text": [
        "60 "
       ]
      },
      {
       "output_type": "stream",
       "stream": "stdout",
       "text": [
        "70 "
       ]
      },
      {
       "output_type": "stream",
       "stream": "stdout",
       "text": [
        "80 "
       ]
      },
      {
       "output_type": "stream",
       "stream": "stdout",
       "text": [
        "90 "
       ]
      },
      {
       "output_type": "stream",
       "stream": "stdout",
       "text": [
        "100 "
       ]
      },
      {
       "output_type": "stream",
       "stream": "stdout",
       "text": [
        "110 "
       ]
      },
      {
       "output_type": "stream",
       "stream": "stdout",
       "text": [
        "120\n"
       ]
      },
      {
       "output_type": "stream",
       "stream": "stdout",
       "text": [
        "3.6       "
       ]
      },
      {
       "output_type": "stream",
       "stream": "stdout",
       "text": [
        "60 "
       ]
      },
      {
       "output_type": "stream",
       "stream": "stdout",
       "text": [
        "70\n"
       ]
      },
      {
       "output_type": "stream",
       "stream": "stdout",
       "text": [
        "3.8       "
       ]
      },
      {
       "output_type": "stream",
       "stream": "stdout",
       "text": [
        "60 "
       ]
      },
      {
       "output_type": "stream",
       "stream": "stdout",
       "text": [
        "70\n"
       ]
      },
      {
       "output_type": "stream",
       "stream": "stderr",
       "text": [
        "-c:214: RuntimeWarning: invalid value encountered in double_scalars\n"
       ]
      }
     ],
     "prompt_number": 71
    },
    {
     "cell_type": "code",
     "collapsed": false,
     "input": [
      "fig1, axes1 = plt.subplots(1, 2, figsize=(15, 5))\n",
      "axes1[0].plot(temprange, E_means)\n",
      "E_std = np.sqrt(E_vars)\n",
      "axes1[0].errorbar(temprange, E_means, yerr=E_std)\n",
      "axes1[1].plot(temprange, E_std)\n"
     ],
     "language": "python",
     "metadata": {},
     "outputs": [
      {
       "metadata": {},
       "output_type": "pyout",
       "prompt_number": 76,
       "text": [
        "[<matplotlib.lines.Line2D at 0x2f91d50>]"
       ]
      },
      {
       "metadata": {},
       "output_type": "display_data",
       "png": "[encoded data removed]",
       "text": [
        "<matplotlib.figure.Figure at 0x2ff6950>"
       ]
      }
     ],
     "prompt_number": 76
    },
    {
     "cell_type": "code",
     "collapsed": false,
     "input": [],
     "language": "python",
     "metadata": {},
     "outputs": []
    }
   ],
   "metadata": {}
  }
 ]
}