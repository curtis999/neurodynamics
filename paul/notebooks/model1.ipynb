{
 "metadata": {
  "name": ""
 },
 "nbformat": 3,
 "nbformat_minor": 0,
 "worksheets": [
  {
   "cells": [
    {
     "cell_type": "heading",
     "level": 1,
     "metadata": {},
     "source": [
      "\"Model 1\""
     ]
    },
    {
     "cell_type": "markdown",
     "metadata": {},
     "source": [
      "*Reference:* H. Sompolinsky, A. Crisanti. *Chaos in random neural networks.* PRL **61**(3) 259, 1988. (doi: 10.1103/PhysRevLett.61.259)"
     ]
    },
    {
     "cell_type": "markdown",
     "metadata": {},
     "source": [
      "---"
     ]
    },
    {
     "cell_type": "code",
     "collapsed": false,
     "input": [
      "import time"
     ],
     "language": "python",
     "metadata": {},
     "outputs": [],
     "prompt_number": 1
    },
    {
     "cell_type": "code",
     "collapsed": false,
     "input": [
      "from mpl_toolkits.mplot3d import Axes3D"
     ],
     "language": "python",
     "metadata": {},
     "outputs": [],
     "prompt_number": 2
    },
    {
     "cell_type": "code",
     "collapsed": false,
     "input": [
      "import numpy as np\n",
      "import matplotlib.pyplot as plt\n",
      "#from matplotlib import animation\n",
      "from scipy.integrate import odeint"
     ],
     "language": "python",
     "metadata": {},
     "outputs": [],
     "prompt_number": 3
    },
    {
     "cell_type": "code",
     "collapsed": false,
     "input": [
      "%matplotlib inline"
     ],
     "language": "python",
     "metadata": {},
     "outputs": [],
     "prompt_number": 4
    },
    {
     "cell_type": "code",
     "collapsed": false,
     "input": [
      "%matplotlib tk"
     ],
     "language": "python",
     "metadata": {},
     "outputs": [
      {
       "output_type": "stream",
       "stream": "stdout",
       "text": [
        "Warning: Cannot change to a different GUI toolkit: tk. Using gtk instead.\n"
       ]
      }
     ],
     "prompt_number": 97
    },
    {
     "cell_type": "heading",
     "level": 3,
     "metadata": {},
     "source": [
      "Connectivity options + initial state"
     ]
    },
    {
     "cell_type": "code",
     "collapsed": false,
     "input": [
      "# seed random number generator\n",
      "np.random.seed(2)"
     ],
     "language": "python",
     "metadata": {},
     "outputs": [],
     "prompt_number": 113
    },
    {
     "cell_type": "markdown",
     "metadata": {},
     "source": [
      "***Random connectivity***"
     ]
    },
    {
     "cell_type": "code",
     "collapsed": false,
     "input": [
      "structure = 'none'  # for animation purposes, see bottom of notebook\n",
      "N = 1000  # number of network elements\n",
      "\n",
      "# generate instance of random matrix\n",
      "J_orig = np.random.randn(N,N)"
     ],
     "language": "python",
     "metadata": {},
     "outputs": [],
     "prompt_number": 40
    },
    {
     "cell_type": "code",
     "collapsed": false,
     "input": [
      "# rescale variance of matrix elements\n",
      "J2 = 1.01\n",
      "Jvar = J2/N\n",
      "J = np.sqrt(Jvar) * J_orig\n",
      "\n",
      "for i in range(N):\n",
      "    J[i,i] = 0.0"
     ],
     "language": "python",
     "metadata": {},
     "outputs": [],
     "prompt_number": 41
    },
    {
     "cell_type": "code",
     "collapsed": false,
     "input": [
      "x_fp = x"
     ],
     "language": "python",
     "metadata": {},
     "outputs": [],
     "prompt_number": 91
    },
    {
     "cell_type": "code",
     "collapsed": false,
     "input": [
      "# randomly draw initial state\n",
      "x = np.array(np.random.randn(N))\n",
      "# instead use x on the limit cycle found in one set of experiments\n",
      "#x = np.load('limitcycle_x0.npy')"
     ],
     "language": "python",
     "metadata": {},
     "outputs": [],
     "prompt_number": 42
    },
    {
     "cell_type": "markdown",
     "metadata": {},
     "source": [
      "***Nearest-neighbor interactions (rectangular grid structure, periodic boundary conditions)***"
     ]
    },
    {
     "cell_type": "code",
     "collapsed": false,
     "input": [
      "structure = 'rect_periodic'\n",
      "M = 4  # number of rows\n",
      "N = 4  # number of columns\n",
      "\n",
      "# uniform connection strength\n",
      "Jm = 1.0\n",
      "\n",
      "J = np.zeros(shape=(M*N,M*N))\n",
      "for ns in range(M*N):\n",
      "    # get index numbers of neighbors\n",
      "    iL = ns - 1\n",
      "    iR = ns + 1\n",
      "    iT = ns - N\n",
      "    iB = ns + N\n",
      "    \n",
      "    # now modify edge oscillators to enforce periodic boundary conditions\n",
      "    if ns%N == 0:  # left-hand edge\n",
      "        iL = ns + N - 1\n",
      "    if ns%N == (N-1):  # right-hand edge\n",
      "        iR = ns - N + 1\n",
      "    if ns < N:  # top edge\n",
      "        iT = ns + N*(M-1)\n",
      "    if ns > (N*M - 1 - N):  # bottom edge\n",
      "        iB = (ns%N)\n",
      "    \n",
      "    # fill in connection strenghts\n",
      "    J[ns,iL] = Jm\n",
      "    J[ns,iR] = Jm\n",
      "    J[ns,iT] = Jm\n",
      "    J[ns,iB] = Jm\n",
      "\n",
      "# initialize the state\n",
      "x = np.array(np.random.randn(M*N))"
     ],
     "language": "python",
     "metadata": {},
     "outputs": [],
     "prompt_number": 5
    },
    {
     "cell_type": "heading",
     "level": 3,
     "metadata": {},
     "source": [
      "Run the simulation, collect time series data"
     ]
    },
    {
     "cell_type": "code",
     "collapsed": false,
     "input": [
      "# equations of motion\n",
      "g = 1.0\n",
      "def dxdt(x, t):\n",
      "    return -x + np.einsum('ij,j', J, np.tanh(g*x))"
     ],
     "language": "python",
     "metadata": {},
     "outputs": [],
     "prompt_number": 43
    },
    {
     "cell_type": "code",
     "collapsed": false,
     "input": [
      "x0 = x_fp\n",
      "x0[0] += 10E-10"
     ],
     "language": "python",
     "metadata": {},
     "outputs": [],
     "prompt_number": 128
    },
    {
     "cell_type": "code",
     "collapsed": false,
     "input": [
      "tstart = time.time()\n",
      "\n",
      "t0 = 0.0\n",
      "tf = 2000.0\n",
      "dt = 0.1\n",
      "times = np.arange(t0, tf+dt, dt)\n",
      "\n",
      "sol = odeint(dxdt, x, times)\n",
      "x = sol[-1]\n",
      "\n",
      "print time.time() - tstart, ' s'"
     ],
     "language": "python",
     "metadata": {},
     "outputs": [
      {
       "output_type": "stream",
       "stream": "stdout",
       "text": [
        "42.3793418407  s\n"
       ]
      }
     ],
     "prompt_number": 44
    },
    {
     "cell_type": "code",
     "collapsed": false,
     "input": [
      "plt.subplot(5,1,1)\n",
      "plt.plot(times, np.tanh(g*sol.T[0]))\n",
      "plt.subplot(5,1,2)\n",
      "plt.plot(times, np.tanh(g*sol.T[3]))\n",
      "plt.subplot(5,1,3)\n",
      "plt.plot(times, np.tanh(g*sol.T[1]))\n",
      "plt.subplot(5,1,4)\n",
      "plt.plot(times, np.tanh(g*sol.T[12]))\n",
      "plt.subplot(5,1,5)\n",
      "plt.plot(times, np.tanh(g*sol.T[4]))\n",
      "\n",
      "plt.show()\n",
      "\n",
      "plt.subplot(5,1,1)\n",
      "plt.plot(times, sol.T[0])\n",
      "plt.subplot(5,1,2)\n",
      "plt.plot(times, sol.T[1])\n",
      "plt.subplot(5,1,3)\n",
      "plt.plot(times, sol.T[2])\n",
      "plt.subplot(5,1,4)\n",
      "plt.plot(times, sol.T[3])\n",
      "plt.subplot(5,1,5)\n",
      "plt.plot(times, sol.T[4])\n",
      "\n",
      "plt.show()"
     ],
     "language": "python",
     "metadata": {},
     "outputs": [
      {
       "metadata": {},
       "output_type": "display_data",
       "png": "[encoded data removed]",
       "text": [
        "<matplotlib.figure.Figure at 0x109c369d0>"
       ]
      },
      {
       "metadata": {},
       "output_type": "display_data",
       "png": "[encoded data removed]",
       "text": [
        "<matplotlib.figure.Figure at 0x10726ae10>"
       ]
      }
     ],
     "prompt_number": 45
    },
    {
     "cell_type": "code",
     "collapsed": false,
     "input": [
      "plt.plot(sol.T[1],sol.T[2])\n",
      "#plt.show()\n",
      "#plt.savefig('ipynb_figs/spirally_attractor.pdf')"
     ],
     "language": "python",
     "metadata": {},
     "outputs": [
      {
       "metadata": {},
       "output_type": "pyout",
       "prompt_number": 46,
       "text": [
        "[<matplotlib.lines.Line2D at 0x109706dd0>]"
       ]
      },
      {
       "metadata": {},
       "output_type": "display_data",
       "png": "[encoded data removed]",
       "text": [
        "<matplotlib.figure.Figure at 0x10970c090>"
       ]
      }
     ],
     "prompt_number": 46
    },
    {
     "cell_type": "code",
     "collapsed": false,
     "input": [
      "fig = plt.figure()\n",
      "ax = fig.add_subplot(111, projection='3d')\n",
      "ax.plot(sol.T[1],sol.T[2],sol.T[3])\n",
      "#plt.show()\n",
      "#fig.savefig('ipynb_figs/spirally_attractor_3d.pdf')"
     ],
     "language": "python",
     "metadata": {},
     "outputs": [
      {
       "metadata": {},
       "output_type": "pyout",
       "prompt_number": 39,
       "text": [
        "[<mpl_toolkits.mplot3d.art3d.Line3D at 0x109becf50>]"
       ]
      },
      {
       "metadata": {},
       "output_type": "display_data",
       "png": "[encoded data removed]",
       "text": [
        "<matplotlib.figure.Figure at 0x109c8fa10>"
       ]
      }
     ],
     "prompt_number": 39
    },
    {
     "cell_type": "markdown",
     "metadata": {},
     "source": [
      "Animating the simulation (useless, fun)"
     ]
    },
    {
     "cell_type": "code",
     "collapsed": false,
     "input": [
      "# solve and animate the bastard\n",
      "t0 = 0.0\n",
      "tf = 100.0\n",
      "dt = 0.1\n",
      "times = np.arange(t0, tf+dt, dt)\n",
      "\n",
      "# extract geometrical structure\n",
      "if structure == 'none':\n",
      "    geo = (M,N)\n",
      "elif structure == 'rect_periodic' or structure == 'rect_edges':\n",
      "    geo = (M,N)\n",
      "else:\n",
      "    print 'No structure specified!'\n",
      "\n",
      "# initialize the figure object\n",
      "fig = plt.figure()\n",
      "ax = plt.axes()\n",
      "im = ax.imshow(x.reshape(geo), cmap=plt.get_cmap('gray'), interpolation='none')\n",
      "im.set_clim(None)\n",
      "\n",
      "# time evolution of system, also fed to animation function\n",
      "i = 0\n",
      "def update_fig(*args):\n",
      "    global x\n",
      "    \n",
      "    x = odeint(dxdt, x, (times[i],times[i+1]))[-1]\n",
      "    #im.set_array(np.tanh(g*x).reshape(geo))\n",
      "    im.set_array(x.reshape(geo))\n",
      "    return im,\n",
      "\n",
      "ani = animation.FuncAnimation(fig, update_fig, blit=False)\n",
      "plt.show()"
     ],
     "language": "python",
     "metadata": {},
     "outputs": [],
     "prompt_number": 19
    },
    {
     "cell_type": "code",
     "collapsed": false,
     "input": [],
     "language": "python",
     "metadata": {},
     "outputs": []
    }
   ],
   "metadata": {}
  }
 ]
}