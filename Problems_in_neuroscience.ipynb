{
 "metadata": {
  "name": ""
 },
 "nbformat": 3,
 "nbformat_minor": 0,
 "worksheets": [
  {
   "cells": [
    {
     "cell_type": "heading",
     "level": 1,
     "metadata": {},
     "source": [
      "Problems in Neuroscience"
     ]
    },
    {
     "cell_type": "heading",
     "level": 2,
     "metadata": {},
     "source": [
      "Eagleman's Top 10"
     ]
    },
    {
     "cell_type": "heading",
     "level": 4,
     "metadata": {},
     "source": [
      "1. How is information coded in neural activity?"
     ]
    },
    {
     "cell_type": "markdown",
     "metadata": {},
     "source": [
      "Neural cells are capable of generating brief voltage spikes of duration ~ 1 msec.  Recordings have shown that spiking in sensory systems correlates with features of the stimulus and maps have been constructed in which the spiking in regions has been linked to specific aspects of the environment.  Deeper in brain, spiking of populations of neurons seems to correspond to more abstract mental phenomena: recognition, decisions, attraction etc.\n",
      "\n",
      "Do spikes carry all of the information being passed in the brain, or are other mechanisms (glial cells, chemical signaling) also active?  How common is the neural code across the brain?  Does each region have it's own particular way of coding?"
     ]
    },
    {
     "cell_type": "heading",
     "level": 4,
     "metadata": {},
     "source": [
      "2. How are memories stored and retrieved?"
     ]
    },
    {
     "cell_type": "markdown",
     "metadata": {},
     "source": [
      "The brain possesses many types of memories: short term, long term, declarative etc. and these memories seem to be controlled by distinct regions.  Injury to one region can damage a particular memory type while leaving the rest intact. It is generally accepted that memory formation corresponds to synaptic changes but how memories are recorded and stored is still unknown.  (Ex. When we memorize a song we remember the separations between the notes rather than the notes themselves.)\n",
      "\n",
      "Memory retrieval is equally confusing.  Retrieval is both faster than we think it should be, and volatile (when a memory is retrieved it becomes vulnerable to loss) and we lack a good model for why that is."
     ]
    },
    {
     "cell_type": "heading",
     "level": 4,
     "metadata": {},
     "source": [
      "3. What Does the Baseline activity in the brain represent?"
     ]
    },
    {
     "cell_type": "markdown",
     "metadata": {},
     "source": [
      "The brain uses a large amount of our energy while at rest, and when engaged in goal directed task a consistent set of areas become less active.  What are these areas doing?"
     ]
    },
    {
     "cell_type": "heading",
     "level": 4,
     "metadata": {},
     "source": [
      "4. How do brains simulate the future?"
     ]
    },
    {
     "cell_type": "markdown",
     "metadata": {},
     "source": [
      "Where and how do we perform calculations allowing us to run through narratives in our heads, testing various hypotheses against one another?  Most of neuroscience focusses on sensory processing and these higher cognitive functions are a mystery."
     ]
    },
    {
     "cell_type": "heading",
     "level": 4,
     "metadata": {},
     "source": [
      "5. What are emotions?"
     ]
    },
    {
     "cell_type": "markdown",
     "metadata": {},
     "source": [
      "Emotions are largely shared across cultures and involve unconscious machinery.  Modern views point to emotions as brain states that rapidly assign values to situations and help to prescribe action.  This view suggests that emotions are a type of computation that is connected to perception.  Memories that have a strong emotional component are also recorded differently, activating the amygdala."
     ]
    },
    {
     "cell_type": "heading",
     "level": 4,
     "metadata": {},
     "source": [
      "6. What is intelligence?"
     ]
    },
    {
     "cell_type": "markdown",
     "metadata": {},
     "source": [
      "What is the neural basis of intelligence?  Why is AI so hard?  How does it connect to attributes like short term memory, emulation, and forming associations? How are our cognitive processes so flexible?"
     ]
    },
    {
     "cell_type": "heading",
     "level": 4,
     "metadata": {},
     "source": [
      "7. How is time represented in the brain?"
     ]
    },
    {
     "cell_type": "markdown",
     "metadata": {},
     "source": [
      "How does the brain resolve the fact that various regions process information at different times"
     ]
    },
    {
     "cell_type": "heading",
     "level": 4,
     "metadata": {},
     "source": [
      "8. Why do brains sleep and dream?"
     ]
    },
    {
     "cell_type": "markdown",
     "metadata": {},
     "source": []
    },
    {
     "cell_type": "heading",
     "level": 4,
     "metadata": {},
     "source": [
      "9. How do the specialized systems of the brain communicate with one another?"
     ]
    },
    {
     "cell_type": "markdown",
     "metadata": {},
     "source": []
    },
    {
     "cell_type": "heading",
     "level": 4,
     "metadata": {},
     "source": [
      "10. What is consciousness?"
     ]
    },
    {
     "cell_type": "markdown",
     "metadata": {},
     "source": []
    },
    {
     "cell_type": "heading",
     "level": 4,
     "metadata": {},
     "source": [
      "11. How does the brain balance plasticity against retention?"
     ]
    },
    {
     "cell_type": "markdown",
     "metadata": {},
     "source": [
      "Adapting to the world around us requires updating the connections in our brain, but at the same time, we don't want to lose memories/personalities/etc.  How does our brain balance these competing goals?  Some notes on plasticity:\n",
      "\n",
      "\"Neuroplasticity has at least four distinctive expressions:\n",
      "\n",
      "* Flexibility of local cortical (representational) maps to expand and contract and to store new items;\n",
      "* Homologous region adaptation\u2014-for example, when brain damage affects the left parietal lobe, can the right parietal lobe reorganize itself to allow the representation of forms of information previously stored in the left parietal lobe?\n",
      "* Sensory substitution where one cortical area previously committed to processing information in one sensory domain (e.g., vision) adapts to input from a different sensory domain (e.g., touch);\n",
      "* Compensatory reorganization where the remaining components of a configured cognitive process perform well enough so that the person can achieve the desired performance outcome (even if it is now accomplished somewhat differently than before).\"\n"
     ]
    },
    {
     "cell_type": "heading",
     "level": 2,
     "metadata": {},
     "source": [
      "23 Problems in Systems Neuroscience"
     ]
    },
    {
     "cell_type": "heading",
     "level": 3,
     "metadata": {},
     "source": [
      "van Hemmen and Sejnowski"
     ]
    },
    {
     "cell_type": "markdown",
     "metadata": {},
     "source": [
      "The van Hemmen and Sejnowski list was aimed at neuroscientists and borrows the format from Hilbert's 23 problems in mathematics.  As such, the coverage is more idiosyncratic and the problems specialized to specific physical systems.  "
     ]
    }
   ],
   "metadata": {}
  }
 ]
}