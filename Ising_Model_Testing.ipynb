{
 "metadata": {
  "name": ""
 },
 "nbformat": 3,
 "nbformat_minor": 0,
 "worksheets": [
  {
   "cells": [
    {
     "cell_type": "heading",
     "level": 1,
     "metadata": {},
     "source": [
      "Ising Model Testing"
     ]
    },
    {
     "cell_type": "markdown",
     "metadata": {},
     "source": [
      "These are my personal notes, included on GitHub for the benefit of all other students.  Very little of the material is my own and I make meager efforts to cite the authors responsible.  If you have a question on a source or a topic or noticed any of the many typos, e-mail me at forrest.sheldon@gmail.com and I'd be happy to point you to where I read the material or discuss it further."
     ]
    },
    {
     "cell_type": "code",
     "collapsed": false,
     "input": [
      "%pylab --no-import-all inline"
     ],
     "language": "python",
     "metadata": {},
     "outputs": [
      {
       "output_type": "stream",
       "stream": "stdout",
       "text": [
        "Populating the interactive namespace from numpy and matplotlib\n"
       ]
      }
     ],
     "prompt_number": 1
    },
    {
     "cell_type": "code",
     "collapsed": false,
     "input": [
      "import numpy as np\n",
      "import scipy as scp\n",
      "import matplotlib.pyplot as plt\n",
      "import itertools as it\n",
      "from collections import deque"
     ],
     "language": "python",
     "metadata": {},
     "outputs": [],
     "prompt_number": 2
    },
    {
     "cell_type": "heading",
     "level": 2,
     "metadata": {},
     "source": [
      "Ising Model"
     ]
    },
    {
     "cell_type": "markdown",
     "metadata": {},
     "source": [
      "The Ising model obeys the hamiltonian\n",
      "$$H = -\\frac{1}{2}\\epsilon\\sum_{(m,n)}J_{mn}x_m x_m + h\\sum_n x_n$$\n",
      "Where $x_n\\in {1,-1}$ and $J_{mn}$ is 1 if the two spins are connected and zero otherwise (or -1 for an antiferromagnet) and $\\epsilon$ measures the strength of the coupling between $m$ and $n$.  The spins $x_n$ are typically arranged on a lattice with nearest neighbor interactions.  States of specified temperature can be generated through Monte Carlo methods.  This seems like an opportunity to implement a class:"
     ]
    },
    {
     "cell_type": "code",
     "collapsed": false,
     "input": [
      "class Ising(object):\n",
      "    # Implements an Ising model.\n",
      "    # Data stored by the model are:\n",
      "    # state - the current state of the model\n",
      "    # temp - the temperature of the model\n",
      "    # rows\n",
      "    # cols\n",
      "    def __init__(self, shape, T, init = None):\n",
      "        # initialize the state and temperature of the ising model\n",
      "        if init == None:\n",
      "            self.state = np.random.choice([-1, 1], shape)\n",
      "        else:\n",
      "            self.state = init\n",
      "\n",
      "        if self.state.shape != shape:\n",
      "            print \"The inital state does not match the shape!\"\n",
      "            print \"Repairing\"\n",
      "            shape = self.state.shape\n",
      "            \n",
      "        self.temp = T\n",
      "        self.rows = self.state.shape[0]\n",
      "        self.cols = self.state.shape[1]\n",
      "        self.sites = self.rows * self.cols\n",
      "       \n",
      "    def set_temp(self, T):\n",
      "        self.temp = T\n",
      "    \n",
      "    def new_state(self, newstate):\n",
      "        # the only reason this is here is to ensure that the shape is correct\n",
      "        if newstate.shape == self.state.shape:\n",
      "            self.state = newstate\n",
      "        else:\n",
      "            print \"State does not match dimensions\"\n",
      "\n",
      "    def randomize(self):\n",
      "        # this is an initial state when evolving the network to a state of high energy\n",
      "        self.state = np.random.choice([-1, 1], self.state.shape)\n",
      "    \n",
      "    def ground_state(self):\n",
      "        # this is an inital state when evolving the network to a state of low energy\n",
      "        self.state = -1 * np.ones(self.state.shape)\n",
      "        \n",
      "#    def local_field(self, i, j):\n",
      "#        # Calculate the local field due to neighboring spins.  We implement periodic boundary\n",
      "#        # conditions\n",
      "#        b_ij = 0\n",
      "#        if i == 0:\n",
      "#            b_ij = self.state[1, j] + self.state[-1, j]   \n",
      "#        elif i == self.rows - 1:\n",
      "#            b_ij = self.state[i - 1, j] + self.state[0, j]\n",
      "#        else:\n",
      "#            b_ij = self.state[i - 1, j] + self.state[i + 1, j]\n",
      "#            \n",
      "#        if j == 0:\n",
      "#            b_ij = b_ij + self.state[i, 1] + self.state[i, -1]   \n",
      "#        elif j == self.cols - 1:\n",
      "#            b_ij = b_ij + self.state[i, j - 1] + self.state[i, 0]\n",
      "#        else:\n",
      "#            b_ij = b_ij + self.state[i, j - 1] + self.state[i, j + 1]\n",
      "#        return b_ij\n",
      "\n",
      "    def neighbors(self, i, j):\n",
      "        nearby = [(0, 0)] * 4\n",
      "        if j == 0:\n",
      "            nearby[0] = (i, self.cols - 1)\n",
      "            nearby[1] = (i, 1)\n",
      "        elif j == self.cols - 1:\n",
      "            nearby[0] = (i, j - 1)\n",
      "            nearby[1] = (i, 0)\n",
      "        else:\n",
      "            nearby[0] = (i, j - 1)\n",
      "            nearby[1] = (i, j + 1)\n",
      "            \n",
      "        if i == 0:\n",
      "            nearby[2] = (self.rows - 1, j)\n",
      "            nearby[3] = (1, j)\n",
      "        elif i == self.rows - 1:\n",
      "            nearby[2] = (i - 1, j)\n",
      "            nearby[3] = (0, j)\n",
      "        else:\n",
      "            nearby[2] = (i - 1, j)\n",
      "            nearby[3] = (i + 1, j)\n",
      "        \n",
      "        return nearby\n",
      "\n",
      "    def local_field(self, i, j):\n",
      "        b_ij = 0\n",
      "        for i, j in self.neighbors(i, j):\n",
      "            b_ij = b_ij + self.state[i, j]\n",
      "        return b_ij\n",
      "    \n",
      "    def gibbs(self, N):\n",
      "        # Runs Gibbs sampling over the ising model N times.\n",
      "        # In Gibbs sampling, a random spin is selected.  The local field is calculated as\n",
      "        # the sum over the neighboring spins plus an external field\n",
      "        spins_i = np.random.randint(self.rows, size=N)\n",
      "        spins_j = np.random.randint(self.cols, size=N)\n",
      "        \n",
      "        for i, j in it.izip(spins_i, spins_j):\n",
      "            local_b = self.local_field(i, j)\n",
      "            prob_1 = 1. / (1. + np.exp(-2. * local_b / self.temp))\n",
      "            if prob_1 > np.random.rand():\n",
      "                self.state[i, j] = 1\n",
      "            else:\n",
      "                self.state[i, j] = -1\n",
      "    \n",
      "    def metropolis(self, N):\n",
      "        # Runs Metropolis sampling over the Ising model N times.\n",
      "        # In Metropolis sampling a spin is selected and the change in energy from flipping the spin is calculated.\n",
      "        # The change is accepted if the energy difference is negative and accepted with a probability equal to the ratio\n",
      "        # of the Boltzmann factors of the two states if it is positive\n",
      "        spins_i = np.random.randint(self.rows, size=N)\n",
      "        spins_j = np.random.randint(self.cols, size=N)\n",
      "        \n",
      "        for i, j in it.izip(spins_i, spins_j):\n",
      "            local_b = self.local_field(i, j)\n",
      "            delta_E = 2 * self.state[i, j] * local_b\n",
      "            if delta_E <= 0 or np.random.rand() <= np.exp(- delta_E / self.temp):\n",
      "                self.state[i, j] = -1 * self.state[i, j]\n",
      "    \n",
      "    def gibbs_display(self, N):\n",
      "        # Runs Gibbs sampling N times.  Every time it iterates the same number of times as the number of sites,\n",
      "        # it stores the energy in an array that it displays afterward.  Early on the energy should trend toward\n",
      "        # the equilibrium value and we will know we have run enough samples when it stabilizes.\n",
      "        spins_i = np.random.randint(self.rows, size=N)\n",
      "        spins_j = np.random.randint(self.cols, size=N)\n",
      "        idx = range(N)\n",
      "        \n",
      "        #if self.temp < 2:\n",
      "        #    self.ground_state()\n",
      "        #else:\n",
      "        #    self.randomize()\n",
      "        self.randomize()\n",
      "        \n",
      "        E = np.array([])\n",
      "        for n, i, j in it.izip(idx, spins_i, spins_j):\n",
      "            local_b = self.local_field(i, j)\n",
      "            prob_1 = 1. / (1. + np.exp(-2. * local_b / self.temp))\n",
      "            if prob_1 > np.random.rand():\n",
      "                self.state[i, j] = 1\n",
      "            else:\n",
      "                self.state[i, j] = -1\n",
      "            if n % self.sites == 0:\n",
      "                E = np.append(E, self.energy())\n",
      "        fig, ax = plt.subplots()\n",
      "        ax.plot(E)\n",
      "\n",
      "    def metropolis_display(self, N):\n",
      "        # Same as gibbs_display above\n",
      "        spins_i = np.random.randint(self.rows, size=N)\n",
      "        spins_j = np.random.randint(self.cols, size=N)\n",
      "        idx = range(N)\n",
      "        \n",
      "        if self.temp < 2:\n",
      "            self.ground_state()\n",
      "        else:\n",
      "            self.randomize()\n",
      "        E = np.array([])\n",
      "        for n, i, j in it.izip(idx, spins_i, spins_j):\n",
      "            local_b = self.local_field(i, j)\n",
      "            delta_E = 2 * self.state[i, j] * local_b\n",
      "            if delta_E <= 0 or np.random.rand() <= np.exp(- delta_E / self.temp):\n",
      "                self.state[i, j] = -1 * self.state[i, j]\n",
      "            if n % self.sites == 0:\n",
      "                E = np.append(E, self.energy())\n",
      "        fig, ax = plt.subplots()\n",
      "        ax.plot(E)\n",
      "            \n",
      "    def display(self):\n",
      "        plt.imshow(self.state , cmap='Greys', interpolation='nearest')\n",
      "        \n",
      "    def energy(self):\n",
      "        E = 0\n",
      "        for (i, j), x_ij in np.ndenumerate(self.state):\n",
      "            E = E + x_ij * self.local_field(i, j)\n",
      "        return - E / 2.\n",
      "    \n",
      "    def magnetization(self):\n",
      "        return sum(sum(self.state))\n",
      "    \n",
      "    def energy_stat(self, err=0.001):\n",
      "        # From investigations into the time required to reach equilibrium - Near or above the critical temperature,\n",
      "        # it seems to require ~60 iterations over the system size to reach equilibrum and then ~30 to obtain another\n",
      "        # independent measurement. Below the critical temperature, this may be much more (~250).  To avoid the apparent\n",
      "        # problems at high temperature, I will stick to Gibbs sampling\n",
      "        N_init = 100 * self.sites\n",
      "        N_sample = 20 * self.sites\n",
      "        \n",
      "        # Initialize the system depending on the temperature\n",
      "        E = np.array([])\n",
      "        if self.temp < 1.75:\n",
      "            self.ground_state()\n",
      "        else:\n",
      "            self.randomize()   \n",
      "        \n",
      "        self.gibbs(N_init)\n",
      "        E = np.append(E, self.energy())\n",
      "        n = 1\n",
      "        for i in range(50):\n",
      "            self.gibbs(N_sample)\n",
      "            E = np.append(E, self.energy())\n",
      "            n = n + 1\n",
      "        err_mean_frac = 1\n",
      "        err_var_frac = 1\n",
      "        while (err_mean_frac > err) or (err_var_frac > err):\n",
      "            n = n + 1\n",
      "            self.gibbs(N_sample)\n",
      "            E = np.append(E, self.energy())\n",
      "            err_mean_frac = np.abs((np.mean(E[:-1]) - np.mean(E)) / np.mean(E))\n",
      "            err_var_frac = np.abs((np.var(E[:-1]) - np.var(E)) / np.var(E))\n",
      "            if n % 10 == 0:\n",
      "                print n,\n",
      "        print\n",
      "        return np.mean(E), np.var(E), E\n",
      "    \n",
      "    def magnetization_stat(self, num_meas, err=0.001):\n",
      "        # From investigations into the time required to reach equilibrium - Near or above the critical temperature,\n",
      "        # it seems to require ~60 iterations over the system size to reach equilibrum and then ~30 to obtain another\n",
      "        # independent measurement. Below the critical temperature, this may be much more (~250).  To avoid the apparent\n",
      "        # problems at high temperature, I will stick to Gibbs sampling\n",
      "        N_init = 200 * self.sites\n",
      "        N_sample =  50 * self.sites\n",
      "        \n",
      "        # Initialize the system depending on the temperature\n",
      "        M = np.array([])\n",
      "        #if self.temp < 1.75:\n",
      "        #    self.ground_state()\n",
      "        #else:\n",
      "        #    self.randomize()   \n",
      "        self.ground_state()\n",
      "        self.gibbs(N_init)\n",
      "        \n",
      "        M = np.append(M, self.magnetization())\n",
      "        for i in range(num_meas):\n",
      "            self.gibbs(N_sample)\n",
      "            M = np.append(M, self.magnetization())\n",
      "\n",
      " #       err_mean_frac = 1\n",
      " #       err_var_frac = 1\n",
      " #       while (err_mean_frac > err) or (err_var_frac > err):\n",
      " #           n = n + 1\n",
      " #           self.gibbs(N_sample)\n",
      " #           M = np.append(M, self.energy())\n",
      " #           err_mean_frac = np.abs((np.mean(M[:-1]) - np.mean(M)) / np.mean(M))\n",
      " #           err_var_frac = np.abs((np.var(M[:-1]) - np.var(M)) / np.var(M))\n",
      " #           if n % 10 == 0:\n",
      " #               print n,\n",
      " #       print\n",
      "        return np.mean(M), np.var(M), M\n",
      "    \n",
      "    def is_connected(self, (i1, j1), (i2, j2)):\n",
      "        \"\"\"\n",
      "        Returns True if the nodes at the two indices are connected to the same cluster and False otherwise\n",
      "        Performs a breadth first search\n",
      "        \"\"\"\n",
      "        active_border = deque([(i1, j1)])  # Collections data type that supports left and right append/pop\n",
      "        cluster = set([(i1, j1)])\n",
      "        \n",
      "        while active_border:     # While border queue is non_empty\n",
      "            curr_i, curr_j = active_border.pop()\n",
      "            for (i, j) in self.neighbors(curr_i, curr_j):   # Check each neighbor of\n",
      "                if (i, j) == (i2, j2):\n",
      "                    return True\n",
      "                elif not (i, j) in cluster and self.state[i, j] == self.state[curr_i, curr_j]:\n",
      "                    active_border.appendleft((i, j))\n",
      "                    cluster.add((i, j))\n",
      "        return False"
     ],
     "language": "python",
     "metadata": {},
     "outputs": [],
     "prompt_number": 4
    },
    {
     "cell_type": "heading",
     "level": 3,
     "metadata": {},
     "source": [
      "A Brief Explanation of Monte Carlo"
     ]
    },
    {
     "cell_type": "markdown",
     "metadata": {},
     "source": [
      "Monte Carlo methods have evolved to solve two problems:\n",
      "\n",
      "1. Sampling from a high dimensional distribution\n",
      "2. Evaluting expectations of functions under this distribution"
     ]
    },
    {
     "cell_type": "heading",
     "level": 4,
     "metadata": {},
     "source": [
      "Why 1 is hard (A Parable from MacKay)"
     ]
    },
    {
     "cell_type": "markdown",
     "metadata": {},
     "source": [
      "The first issue is that, while we have might have access to the unnormalized form of the distribution $P^* = ZP$, we are typically unable to calculate the normalization coefficients.  This makes using rejection sampling impossible. We could discretize the distribution and numerically calculate the normalization coeffiecients but this requires enumerating all of the states of the probability distribution.  This brings us to the second issue.\n",
      "\n",
      "Imagine we have a 1000 dimensional system with only two states in each\n",
      "dimension.  This gives us $2^{1000}$ states.  If every electron in the universe ($2^{266}$) were a 1000 gigahertz\n",
      "computer capable of enumerating a trillion states ($2^{40}$) per second, it would still take $2^{694}s \\approx 10^{190}$\n",
      "ages of the universe to enumerate all of the possible states.  And systems with this many states are everywhere (like a\n",
      "30x33 ising model).  So enumerating all of the possible states in a realistic system is an impossible problem."
     ]
    },
    {
     "cell_type": "heading",
     "level": 4,
     "metadata": {},
     "source": [
      "A Parable from MacKay"
     ]
    },
    {
     "cell_type": "markdown",
     "metadata": {},
     "source": [
      "We are thus presented with the following problem:\n",
      "\n",
      "Imagine you are a graduate student studying freshwater plankton in a newly found lake.  The depth of the lake is $P^*(\\vec{x})\\quad \\vec{x} = (x,y)$ and the plankton live in columns of uniform concentration $\\phi(\\vec{x})$ (z dependence\n",
      "would break the analogy). The average plankton concentration is thus \n",
      "$$\\left<\\phi(\\vec{x})\\right> = \\frac{1}{Z}\\int d^N \\vec{x}\\,P^*(\\vec{x})\\phi(\\vec{x}).$$\n",
      "Where $Z = \\int d^N\\vec{x} P^*(\\vec{x})$ is the volume of the lake. You are given a dingy, a GPS, and a plumb bob and asked to evaluate this function.  You may travel to any point using the GPS and measure the depth and the algae concentration.\n",
      "\n",
      "We could evaluate this function by generating random samples from the lake such that every every $cm^3$ has the same chance of being sampled. This would naturally give greater weight to deeper areas and is problem 1.  If we could draw these samples, we could use them to evaluate the function and solve problem 2.  However, we have no idea what the underwater topography of the lake is.  If the volume is dominated by a few narrow and very deep canyons, how do we discover these without measuring the depth of every point in the lake? Monte Carlo methods will have to implicitly discover the canyons and their relative volume without visiting every point.  The solution, we will find, is to random walk..."
     ]
    },
    {
     "cell_type": "heading",
     "level": 4,
     "metadata": {},
     "source": [
      "Peliti's Intro"
     ]
    },
    {
     "cell_type": "markdown",
     "metadata": {},
     "source": [
      "Suppose we want to evaluate the integral\n",
      "$$\\int_0^1 A(x) p(x) dx$$\n",
      "where $p(x)$ is some probability distribution. One way would be to break the region into intervals and evaluate the sum,\n",
      "$$x_i = i/N\\quad i\\in{1,..,N}$$\n",
      "$$\\left<A\\right> \\approx \\frac{1}{N}\\sum_i A(x_i) p(x_i).$$\n",
      "However, if $p(x)$ is small over some portion of this range, this method is inefficient.  We would do better to introduce the CDF $\\Phi(x)$ and pick our $x_i$ such that $\\frac{1}{N} = \\Phi(x_{i+1}) - \\Phi(x_i)$ and the sum  becomes\n",
      "$$\\left<A\\right> \\approx \\frac{1}{N}\\sum_i A(x_i).$$\n",
      "While solving for the $x_i$ is possible in 1-d it becomes intractable in higher dimensions.\n",
      "\n",
      "To evaluate $\\left<A\\right> = \\int d^d x A(x) p(x)$ by numerical quadrature we require a uniform distribution of points.  The number of points grows exponentially in $d$ and becomes inefficient quickly.  If instead we consider\n",
      "$$\\bar{A} = \\frac{1}{N}\\sum_i A(x_i) p(x_i)$$\n",
      "where the $x_i$ are random iid vectors, by the central limit theorem $\\bar{A}$ is a gaussian distributed random variable with average $\\left<A\\right>$ and variance proportional to $1/N$.  This is quite slow but is independent of $d$ and can be improved by drawing the points from the distribution $p(x)$.  The integral then becomes\n",
      "$$\\left<A\\right> \\approx \\bar{A} =  \\frac{1}{N}\\sum_i A(x_i).$$\n",
      "with the same average and asymptotic behavior (although slightly improved) as previously.\n",
      "\n",
      "The problem then becomes generating independent samples from a given distribution.  Computers are bad at the independent part, but so long as their correlation goes to 0 reasonably quickly, they will work.  To do this we use Markov Chains."
     ]
    },
    {
     "cell_type": "heading",
     "level": 4,
     "metadata": {},
     "source": [
      "Markov Chains"
     ]
    },
    {
     "cell_type": "markdown",
     "metadata": {},
     "source": [
      "By creating a Markov Chain with the appropriate equilibrium distribution, we can generate samples of any distribution we would like.  First, a definition:\n",
      "\n",
      "Given a set of discrete states $Q$, the Markov Chain $X$ is the sequence of random variables $X_t$ such that,\n",
      "\n",
      "* $X_t \\in Q$\n",
      "* $P(X_t| X_{t-1}, X_{t-2}, ....) = P(X_t|X_{t-1})$ or the conditional probability distributions only depend on the previous state of the system\n",
      "\n",
      "This allows us to calculate the evolution of a Markov Process through matrix multiplication:\n",
      "$$p_a(t+1) = \\sum_{b\\in Q}W_{ab}p_b(t)$$\n",
      "Where the transition coefficients must obey\n",
      "\n",
      "* $W_{ab} \\ge 0$\n",
      "* $\\sum_{a\\in Q} W_{ab} = 1$"
     ]
    },
    {
     "cell_type": "heading",
     "level": 3,
     "metadata": {},
     "source": [
      "Drawing from Equilibrium"
     ]
    },
    {
     "cell_type": "markdown",
     "metadata": {},
     "source": [
      "Repeated application of the transition matrix will cause the probabilities to redistribute, eventually reaching (at least for some Markov processes) an equilibrium state. (I can imagine many other possibilities including periodic or chaotic solutions (not sure if this is possible for a finite chain) so I'm not sure that *any* chain will converge to a static equilibrium solution but we can ignore the other possibilities for now.) At the equilibrium distribution we have\n",
      "$$ 0 = \\Delta p_{a,eq} = p_a(t+1) - p_a(t) = \\sum_{b \\neq a}'W_{ab}p_b - p_a = \\sum_b W_{ab}p_b - \\sum_b W_{ba}p_a = \\sum_b (W_{ab}p_{b,eq} - W_{ba}p_{a,eq})$$\n",
      "This is saying that, at equilibrium, the amount of probability that flows into $a$ must be equal to the amount that flows out of $a$ for the state to be stationary.\n",
      "\n",
      "A more restrictive condition for equilibrium is that each term in the sum vanishes independently.  This is saying that the amount of probability flowing from $a$ to $b$ must be equal to the amount flowing from $b$ to $a$, or\n",
      "$$W_{ab} p_{b,eq} - W_{ba} p_{a,eq} = 0$$\n",
      "This is called **detailed balance**.  (Note that given this condition we can construct the equilibrium distribution from \n",
      "the transition coefficients.) This way of stating it is inconvenient though as it refers to the equilibrium distribution.  A simple consequence of applying this property to three states and eliminating the distributions is:\n",
      "$$W_{ab}W_{bc}W_{ca} = W_{ac}W_{cb}W_{ba}$$\n",
      "The key consequence of this property is that a probability distribution evolving under a Markov chain with detailed balance will monotonically approach the equilibrium distribution.  The proof is as follows:\n",
      "\n",
      "Consider the function\n",
      "$$I = \\sum_a \\frac{1}{p_{a,eq}}(p_a - p_{a, eq})^2 = \\sum_a \\frac{p_a^2}{p_{a,eq}} - 1.$$\n",
      "From the definition we can conclude, $I \\geq 0$ and $I(p_{eq}) = 0$. We would like to show that $\\Delta I \\leq 0$.  From the definition,\n",
      "$$\\Delta I = \\sum_{a b c} \\frac{W_{ab} p_b W_{ac}p_c}{p_{a,eq}} - \\sum_{a}\\frac{p_a^2}{p_{a,eq}}$$\n",
      "In the first term, from detailed balance, we can rewrite $W_{ab} = \\frac{W_{ba}p_{a,eq}}{p_{b,eq}}$ yielding\n",
      "$$\\sum_{a b c} W_{ba}W_{ca}p_{a,eq}\\frac{p_b p_c}{p_{b,eq}p_{c,eq}}.$$\n",
      "In the second expression we introduce the normalization condition $\\sum_{b}W_{ba} = 1$, and then switch the labels in the sum and immediately use detailed balance to switch the matrix element back,\n",
      "$$\\sum_{a,b} W_{ba}p_{a,eq}\\frac{p_b^2}{p_{b,eq}^2}.$$\n",
      "We finally complete the symmetry of the expression by introducing the normalization condition $\\sum_{c}W_{ca} =1$ leaving, in it's entirety,\n",
      "$$\\sum_{a b c} W_{ba}W_{ca}p_{a,eq}\\frac{p_b p_c}{p_{b,eq}p_{c,eq}} - \n",
      "   \\sum_{ab c} W_{ba}W_{ca}p_{a,eq}\\frac{p_b^2}{p_{b,eq}^2}.$$\n",
      "Now, taking the semi-sum of this expression and the expression formed by exchanging $b$ and $c$ we obtain,\n",
      "$$\\Delta I = -\\frac{1}{2}\\sum_{abc} W_{ba}W_{ca} p_{a,eq}\\left(\\frac{p_b}{p_{b,eq}} - \\frac{p_c}{p_{c,eq}}\\right)^2.$$\n",
      "We can immediately conclude that $\\Delta I < 0$ and only equal to zero in the case that each term in the probability distribution is proportional to it's value in the equilibrium distribution suggesting that by normalization it must be equal to the equilibrium distribution.  However, $\\Delta I$ might also vanish if the probabilities vanish over one region and are proportional to the equilibrium distribution in the other, so long as there are no transitions between these two regions.  For this reason, we also require that the MC be **ergodic** or allow that every state be reachable from every other state.\n",
      "\n",
      "Therefore, in order to conclude that our Markov Chain will allow us to sample from the equilibrium probability distribution, we require that it be:\n",
      "\n",
      "* ergodic, and\n",
      "* obey detailed balance\n",
      "\n",
      "While these seem unnecessarily restrictive, they allow a large collection of transition probabilities.  I am summarizing several below."
     ]
    },
    {
     "cell_type": "heading",
     "level": 4,
     "metadata": {},
     "source": [
      "Worst Idea - Uniform Sampling"
     ]
    },
    {
     "cell_type": "markdown",
     "metadata": {},
     "source": [
      "The most naive method to solve the second problem would just be to uniformly sample the space, generating $R$ samples $\\{x^{(r)}\\}_{r=1}^R$, calculate a normalization constant $Z_R = \\sum_r P^*(x^{(r)})$ and estimate the average of the function as\n",
      "$$\\left<\\phi(x)\\right> = \\sum_r \\phi(x^{(r)}) \\frac{P^*(x^{(r)}}{Z_R}.$$\n",
      "How well this works will depend on $\\phi(x)$ and $P^*(x)$.  Taking for granted that $\\phi(x)$ is a smoothly varying, well behaved function, we concentrate on the distribution.  For high dimensional distributions, the *asymptotic equipartition principle* states that an outcome is almost certain to lie in a 'typical set' having approximately $2^H$ members where $H$ is the entropy of the distribution.  (More on this in another notebook.) This means all the probability lies in a small region and our estimate will only be good if we manage to hit a few points in this region.  The chance of a uniformly sampled point hitting the region is $2^{H-N}$ and so we need of order $2^{N-H}$ samples to ensure that this occurs.  For a binomial distribution with N = 1000, the entropy is approximately N = 6 bits, so we need $2^{994}\\approx 10^{331}$ samples which is an impossibly large number.  So Uniform sampling just won't work."
     ]
    },
    {
     "cell_type": "heading",
     "level": 4,
     "metadata": {},
     "source": [
      "A Better Idea - Importance Sampling"
     ]
    },
    {
     "cell_type": "markdown",
     "metadata": {},
     "source": [
      "Importance sampling is only a method for evaluating the expectation of a function (Problem 2). Suppose we can evaluate $P^*(x)$ but we don't know how to sample from it, but we do know how to sample from another unnormalized distribution $Q^*(x)$.  Samples where $Q^(x) > P^(x)$ will be over-represented and vice versa.  To account for this, we adjust each sample by a weight accounting for its 'importance,' $w_r = \\frac{P^*(x)}{Q^*(x)}$ and we calculate the estimator as,\n",
      "$$\\hat{\\Phi} = \\frac{\\sum_r w_r \\phi(x^{(r)})}{\\sum_r w_r}.$$\n",
      "A single term in the bottom sum has the expectation under $Q = Q^*/Z_Q$ of $\\frac{Z_P}{Z_Q}$ and so the bottom sum has expectation $R\\frac{Z_P}{Z_Q}$.  Similarly, the top has expectation $R\\frac{Z_P}{Z_Q}\\left<\\phi\\right>$ and so the estimator converges to the correct expectation (so long as $Q$ is nonzero wherever $P$ is).\n",
      "\n",
      "A problem, however is that we do not know the variance of the estimator, and if $Q$ is small in areas where $\\phi P$ is large, then even after many samples we are not assured to have sampled this area and our estimate will be drastically off, and worse, the variance we observe will be quite small.  For this reason, it is important that we use distributions that have heavy tails for our importance sampler (read: no gaussians!).  Similarly, if $P$ is multimodal and we use a distribution that is fit to one of the peaks, we may never get samples in those other peaks and our estimator may seem stable while being wildly incorrect."
     ]
    },
    {
     "cell_type": "markdown",
     "metadata": {},
     "source": [
      "PROGRAM AN IMPORTANCE SAMPLER TO PLAY WITH"
     ]
    },
    {
     "cell_type": "heading",
     "level": 5,
     "metadata": {},
     "source": [
      "Why it's actually a Bad Idea - Importance Sampling in High Dimensions"
     ]
    },
    {
     "cell_type": "markdown",
     "metadata": {},
     "source": [
      "Our importance sampler will not work well if the weights vary wildly in magnitude, as happens when there are regions where $Q$ is small and $P$ is large.  Suppose we take as a target density the uniform sphere in $d$ dimensions.  We take as our importance sampler $Q = \\prod_i Normal(x_i;0,\\sigma)$.  In the large $d$ limit, almost all of the probability mass of this distribution lies in a narrow strip around $\\sqrt{N}\\sigma$ (typical set). From the mean and variance of $r^2$, we know that in this region, $Q$ will have values of approximately $\\frac{1}{2\\pi\\sigma^2}\\exp{\\left(-\\frac{N}{2}\\pm\\frac{\\sqrt{2N}}{2}\\right)}$ yielding weights varying around $2\\pi\\sigma^2\\exp{\\left(\\frac{N}{2}\\pm\\frac{\\sqrt{2N}}{2}\\right)}$.  The ratio of the largest to the median weight can be estimated by doubling the standard deviation giving $\\exp\\left(\\sqrt{2N}\\right)$ which if $N=1000$ is $\\approx 10^{19}$.  Thus the value of the estimator will be dominated by a few very large weights.  Thus in high dimensions, even if we can obtain samples in the typical set of $P$, the weights of such samples sill vary by a factor of $\\exp\\left(\\sqrt{N}\\right)$ unless $Q$ is a nearly perfect approximation to $P$"
     ]
    },
    {
     "cell_type": "heading",
     "level": 4,
     "metadata": {},
     "source": [
      "Not Much Better Idea Rejection Sampling"
     ]
    },
    {
     "cell_type": "markdown",
     "metadata": {},
     "source": [
      "Suppose we can again evaluate functions $P^*$ and $Q^*$ and there is some constant $c$ such that $cQ^*(x) > P*(x)$ for all $x$. We generate samples from $P$ by the following method.\n",
      "\n",
      "* First, generate a random number $x_1$ from $Q$\n",
      "* Next, generate a random number $x_2$ uniformly distributed on the interval $[0, cQ^*(x_1)]$\n",
      "* If $x_2 < P^*(x_1)$ accept x_1 and add it to our set of samples $\\{x^{(r)}\\}$\n",
      "\n",
      "This will generate samples from $P$ by the following arguement.  $x_1$ is randomly distributed in the area under $cQ^*$.  The rejection step removes all samples in the area above $P^*$ so the remaining samples must be uniformly distributed in the area under $P^*$.  This suggests that probability distribution of $x_1$ of the remaining points is proportional to $P^*$ and they are thus samples from $P$.  In order for this to work well, $Q^*$ must be similar to $P^*$ so that your rejection rate is reasonable."
     ]
    },
    {
     "cell_type": "markdown",
     "metadata": {},
     "source": [
      "PROGRAM A REJECTION SAMPLER TO PLAY WITH"
     ]
    },
    {
     "cell_type": "heading",
     "level": 5,
     "metadata": {},
     "source": [
      "Why it's not a very good idea - Rejection Sampling in High Dimensions"
     ]
    },
    {
     "cell_type": "markdown",
     "metadata": {},
     "source": [
      "In high dimensions we should expect that our $c$ will be forced to be so high that our rejection rate will be unreasonable.  As an exercise, let's try using a gaussian to sample from a narrower gaussian in $N=1000$ dimensions.  We take as our target distribution $P=\\prod_i Normal(x_i; 0, \\sigma_P)$.  We choose as our proposal density $Q = \\prod_i Normal(x_i; 0 1.01\\sigma_P)$.  In order for $Q$ to exceed $P$ everywhere, our constant must be the ratio of the densities at the origin,\n",
      "$$c = \\frac{(2\\pi 1.01\\sigma_P^2)^{N/2}}{(2\\pi\\sigma_P^2)^{N/2}} = \\exp\\left(N \\ln(1.01)\\right)$$\n",
      "which for $N=1000$ is approximately 20,000.  For this example, the rejection rate is just the ratio of the volumes and is thus $c$, so the rejection rate scales exponentially with the dimension and rejection sampling is unlikely to be useful."
     ]
    },
    {
     "cell_type": "heading",
     "level": 4,
     "metadata": {},
     "source": [
      "More Useful Ideas"
     ]
    },
    {
     "cell_type": "markdown",
     "metadata": {},
     "source": [
      "The previous methods were typically useful in few dimensions and when the proposal density $Q$ resembles $P$.  The following methods are quite different and get around this restriction."
     ]
    },
    {
     "cell_type": "heading",
     "level": 4,
     "metadata": {},
     "source": [
      "Metropolis-Hastings Sampling"
     ]
    },
    {
     "cell_type": "markdown",
     "metadata": {},
     "source": [
      "We wish to sample from a probability distribution $P$ while we are only able to evaluate $P^*$.  The previous methods have attempted to generate a list of independent samples $\\{x^{(r)}\\}_{r=1}^R$.  Instead, here we aim to generate a sequence $\\{x^{(t)}\\}$ of *dependent* samples whose dependence decreases as their distance in the sequence increases.\n",
      "\n",
      "We achieve this by means of a *proposal density* $Q$ that depends on the current state of the sequence $x^{(t)}$.  $Q(x, x^{(t)})$ can be any density we choose and we are thus not obligated to pick one that fits $P$ optimally.  Instead, we wish to pick a $Q$ that makes the dependence of our samples decrease as quickly as possible.\n",
      "\n",
      "The method proceeds as follows:\n",
      "\n",
      "* At a point in the sequence $x^{(t)}$, generate another point $x$ from the distribution $Q(x, x^{(t)})$\n",
      "* Calculate the quantity $$ a = \\frac{P^*(x)}{P^*(x^{(t)})}\\frac{Q(x^{(t)}, x)}{Q(x, x^{(t)})}.$$ If $a\\ge 1$ the state is accepted. Otherwise it is accepted with probability $a$.\n",
      "* If the state is accepted, $x^{(t+1)} = x$. Otherwise, $x^{(t+1)} = x^{(t)}$.\n",
      "\n",
      "If $Q$ is symmetrical, then the second factor in $a$ is 1 and the method simply has the sequence always step away if the new state is more probable and step away with a probability equal to the ratio of the densities if it is less probable."
     ]
    },
    {
     "cell_type": "heading",
     "level": 5,
     "metadata": {},
     "source": [
      "Convergence"
     ]
    },
    {
     "cell_type": "markdown",
     "metadata": {},
     "source": [
      "It can be shown (as it sort of was above) that for any positive $Q$ as $t\\to\\infty$ the probability distribution of $x^{(t)}$ approaches $P$. (Note that this does not *require* that $Q$ be nonzero everywhere.) However, in surmounting the difficulty of generating the appropriate $Q$, we have inherited the new problem of determining how long we need to sample to achieve this convergence and how long we have to wait between samples to be sure that they are effectively independent.\n",
      "\n",
      "It is typical to employ a proposal density with a short length scale $\\epsilon$ in comparison to the largest length scale of the target distribution $L$. This is because in high-dimension problems, any point a large step size away is likely to have a very small probability and thus a low acceptance rate.  Recalling that a random walk after $T$ steps of size $\\epsilon$ moves an average distance of $\\sqrt(T)\\epsilon$, and guessing that we will get independent samples when the Markov process has had time to walk over our entire state space, we can form a simple rule of thumb:\n",
      "\n",
      "If the largest length scale of our problem is $L$ and we have a characteristic step size $\\epsilon$ and an average acceptance rate of our steps $f$, we need to run our MH-sampler for at least\n",
      "$$T \\approx \\frac{(L/\\epsilon)^2}{f}$$\n",
      "steps to obtain an independent sample."
     ]
    },
    {
     "cell_type": "markdown",
     "metadata": {},
     "source": [
      "ADD AN EXAMPLE OF MH vs. REJECTION IN 1D"
     ]
    },
    {
     "cell_type": "heading",
     "level": 5,
     "metadata": {},
     "source": [
      "MH-Sampling in High Dimensions"
     ]
    },
    {
     "cell_type": "markdown",
     "metadata": {},
     "source": []
    },
    {
     "cell_type": "heading",
     "level": 4,
     "metadata": {},
     "source": [
      "Gibbs Sampling"
     ]
    },
    {
     "cell_type": "markdown",
     "metadata": {},
     "source": []
    },
    {
     "cell_type": "heading",
     "level": 4,
     "metadata": {},
     "source": [
      "Wolff Algorithm"
     ]
    },
    {
     "cell_type": "markdown",
     "metadata": {},
     "source": []
    },
    {
     "cell_type": "heading",
     "level": 3,
     "metadata": {},
     "source": [
      "Reaching Equilibrium"
     ]
    },
    {
     "cell_type": "markdown",
     "metadata": {},
     "source": [
      "First we need to see how long it takes for our systems to reach equilibrium from an initially randomized state.  To this end, the gibbs_display(N) and metropolis_display(N) functions take an initally randomized system and run each sampling algorithm N times, plotting the energy every time it runs through a factor of the system size.  This should be investigated for different temperatures and system sizes for each sampling strategy."
     ]
    },
    {
     "cell_type": "heading",
     "level": 4,
     "metadata": {},
     "source": [
      "Temperature"
     ]
    },
    {
     "cell_type": "heading",
     "level": 5,
     "metadata": {},
     "source": [
      "Near Critical"
     ]
    },
    {
     "cell_type": "markdown",
     "metadata": {},
     "source": [
      "First something near where I think the critical point is:"
     ]
    },
    {
     "cell_type": "code",
     "collapsed": false,
     "input": [
      "test = Ising((50, 50), 2.27)"
     ],
     "language": "python",
     "metadata": {},
     "outputs": [],
     "prompt_number": 25
    },
    {
     "cell_type": "heading",
     "level": 6,
     "metadata": {},
     "source": [
      "Metropolis"
     ]
    },
    {
     "cell_type": "code",
     "collapsed": false,
     "input": [
      "test.metropolis_display(1000000)"
     ],
     "language": "python",
     "metadata": {},
     "outputs": [
      {
       "metadata": {},
       "output_type": "display_data",
       "png": "[encoded data removed]",
       "text": [
        "<matplotlib.figure.Figure at 0x4817510>"
       ]
      }
     ],
     "prompt_number": 21
    },
    {
     "cell_type": "code",
     "collapsed": false,
     "input": [
      "test.display()"
     ],
     "language": "python",
     "metadata": {},
     "outputs": [
      {
       "metadata": {},
       "output_type": "display_data",
       "png": "[encoded data removed]",
       "text": [
        "<matplotlib.figure.Figure at 0x4838b50>"
       ]
      }
     ],
     "prompt_number": 22
    },
    {
     "cell_type": "heading",
     "level": 6,
     "metadata": {},
     "source": [
      "Gibbs"
     ]
    },
    {
     "cell_type": "code",
     "collapsed": false,
     "input": [
      "test.gibbs_display(1000000)"
     ],
     "language": "python",
     "metadata": {},
     "outputs": [
      {
       "metadata": {},
       "output_type": "display_data",
       "png": "[encoded data removed]",
       "text": [
        "<matplotlib.figure.Figure at 0x2baa390>"
       ]
      }
     ],
     "prompt_number": 26
    },
    {
     "cell_type": "code",
     "collapsed": false,
     "input": [
      "test.display()"
     ],
     "language": "python",
     "metadata": {},
     "outputs": [
      {
       "metadata": {},
       "output_type": "display_data",
       "png": "[encoded data removed]",
       "text": [
        "<matplotlib.figure.Figure at 0x35b32d0>"
       ]
      }
     ],
     "prompt_number": 27
    },
    {
     "cell_type": "markdown",
     "metadata": {},
     "source": [
      "It looks like both sampling methods reach the same energy value and have similar variances.  In this case, we need to worry about critical slowing down and metastable states which it does appear like the system is exhibiting.  It appears that we need at least 150 iterations over the system size and as many as 350 to be sure that we have reached equilibrium.  MacKay claimed 100 was sufficient and I will run with that from now on but it may be worth looking into cluster algorithms to speed sampling near the critical point."
     ]
    },
    {
     "cell_type": "heading",
     "level": 5,
     "metadata": {},
     "source": [
      "Low T"
     ]
    },
    {
     "cell_type": "code",
     "collapsed": false,
     "input": [
      "test.set_temp(1.5)"
     ],
     "language": "python",
     "metadata": {},
     "outputs": [],
     "prompt_number": 25
    },
    {
     "cell_type": "heading",
     "level": 6,
     "metadata": {},
     "source": [
      "Metropolis"
     ]
    },
    {
     "cell_type": "code",
     "collapsed": false,
     "input": [
      "test.metropolis_display(1000000)"
     ],
     "language": "python",
     "metadata": {},
     "outputs": [
      {
       "metadata": {},
       "output_type": "display_data",
       "png": "[encoded data removed]",
       "text": [
        "<matplotlib.figure.Figure at 0x4890550>"
       ]
      }
     ],
     "prompt_number": 26
    },
    {
     "cell_type": "code",
     "collapsed": false,
     "input": [
      "test.display()"
     ],
     "language": "python",
     "metadata": {},
     "outputs": [
      {
       "metadata": {},
       "output_type": "display_data",
       "png": "[encoded data removed]",
       "text": [
        "<matplotlib.figure.Figure at 0x48376d0>"
       ]
      }
     ],
     "prompt_number": 27
    },
    {
     "cell_type": "heading",
     "level": 6,
     "metadata": {},
     "source": [
      "Gibbs"
     ]
    },
    {
     "cell_type": "code",
     "collapsed": false,
     "input": [
      "test.gibbs_display(1000000)"
     ],
     "language": "python",
     "metadata": {},
     "outputs": [
      {
       "metadata": {},
       "output_type": "display_data",
       "png": "[encoded data removed]",
       "text": [
        "<matplotlib.figure.Figure at 0x48b7610>"
       ]
      }
     ],
     "prompt_number": 28
    },
    {
     "cell_type": "code",
     "collapsed": false,
     "input": [
      "test.display()"
     ],
     "language": "python",
     "metadata": {},
     "outputs": [
      {
       "metadata": {},
       "output_type": "display_data",
       "png": "[encoded data removed]",
       "text": [
        "<matplotlib.figure.Figure at 0x79c3050>"
       ]
      }
     ],
     "prompt_number": 29
    },
    {
     "cell_type": "markdown",
     "metadata": {},
     "source": [
      "I was having trouble getting the system to the low energy states until I started initializing to the ground state at low temperatures.  Here 100 iterations looks sufficient."
     ]
    },
    {
     "cell_type": "heading",
     "level": 4,
     "metadata": {},
     "source": [
      "High T"
     ]
    },
    {
     "cell_type": "code",
     "collapsed": false,
     "input": [
      "test.set_temp(10000)"
     ],
     "language": "python",
     "metadata": {},
     "outputs": [],
     "prompt_number": 38
    },
    {
     "cell_type": "heading",
     "level": 6,
     "metadata": {},
     "source": [
      "Metropolis"
     ]
    },
    {
     "cell_type": "code",
     "collapsed": false,
     "input": [
      "test.metropolis_display(1000000)"
     ],
     "language": "python",
     "metadata": {},
     "outputs": [
      {
       "metadata": {},
       "output_type": "display_data",
       "png": "[encoded data removed]",
       "text": [
        "<matplotlib.figure.Figure at 0x48457d0>"
       ]
      }
     ],
     "prompt_number": 39
    },
    {
     "cell_type": "code",
     "collapsed": false,
     "input": [
      "test.display()"
     ],
     "language": "python",
     "metadata": {},
     "outputs": [
      {
       "metadata": {},
       "output_type": "display_data",
       "png": "[encoded data removed]",
       "text": [
        "<matplotlib.figure.Figure at 0x48a1650>"
       ]
      }
     ],
     "prompt_number": 40
    },
    {
     "cell_type": "heading",
     "level": 6,
     "metadata": {},
     "source": [
      "Gibbs"
     ]
    },
    {
     "cell_type": "code",
     "collapsed": false,
     "input": [
      "test.gibbs_display(1000000)"
     ],
     "language": "python",
     "metadata": {},
     "outputs": [
      {
       "metadata": {},
       "output_type": "display_data",
       "png": "[encoded data removed]",
       "text": [
        "<matplotlib.figure.Figure at 0x4812dd0>"
       ]
      }
     ],
     "prompt_number": 41
    },
    {
     "cell_type": "code",
     "collapsed": false,
     "input": [
      "test.display()"
     ],
     "language": "python",
     "metadata": {},
     "outputs": [
      {
       "metadata": {},
       "output_type": "display_data",
       "png": "[encoded data removed]",
       "text": [
        "<matplotlib.figure.Figure at 0x2fa1d90>"
       ]
      }
     ],
     "prompt_number": 34
    },
    {
     "cell_type": "markdown",
     "metadata": {},
     "source": [
      "The Metropolis energy is markedly lower than the gibbs sampling energy for high temperatures.  I'm not sure why this is.  Until I figure out how to calculate what I think it should be, I will follow MacKay and use Gibbs sampling."
     ]
    },
    {
     "cell_type": "heading",
     "level": 4,
     "metadata": {},
     "source": [
      "System Size"
     ]
    },
    {
     "cell_type": "heading",
     "level": 5,
     "metadata": {},
     "source": [
      "Smaller"
     ]
    },
    {
     "cell_type": "code",
     "collapsed": false,
     "input": [
      "test = Ising((25, 25), 2.27)"
     ],
     "language": "python",
     "metadata": {},
     "outputs": [],
     "prompt_number": 21
    },
    {
     "cell_type": "heading",
     "level": 6,
     "metadata": {},
     "source": [
      "Metropolis"
     ]
    },
    {
     "cell_type": "code",
     "collapsed": false,
     "input": [
      "test.metropolis_display(1000000)"
     ],
     "language": "python",
     "metadata": {},
     "outputs": [
      {
       "metadata": {},
       "output_type": "display_data",
       "png": "[encoded data removed]",
       "text": [
        "<matplotlib.figure.Figure at 0x453f090>"
       ]
      }
     ],
     "prompt_number": 22
    },
    {
     "cell_type": "heading",
     "level": 6,
     "metadata": {},
     "source": [
      "Gibbs"
     ]
    },
    {
     "cell_type": "code",
     "collapsed": false,
     "input": [
      "test.gibbs_display(1000000)"
     ],
     "language": "python",
     "metadata": {},
     "outputs": [
      {
       "metadata": {},
       "output_type": "display_data",
       "png": "[encoded data removed]",
       "text": [
        "<matplotlib.figure.Figure at 0x44db310>"
       ]
      }
     ],
     "prompt_number": 23
    },
    {
     "cell_type": "code",
     "collapsed": false,
     "input": [
      "test.display()"
     ],
     "language": "python",
     "metadata": {},
     "outputs": [
      {
       "metadata": {},
       "output_type": "display_data",
       "png": "[encoded data removed]",
       "text": [
        "<matplotlib.figure.Figure at 0x4484a10>"
       ]
      }
     ],
     "prompt_number": 24
    },
    {
     "cell_type": "heading",
     "level": 4,
     "metadata": {},
     "source": [
      "Larger"
     ]
    },
    {
     "cell_type": "code",
     "collapsed": false,
     "input": [
      "test = Ising((100, 100), 2.27)"
     ],
     "language": "python",
     "metadata": {},
     "outputs": [],
     "prompt_number": 25
    },
    {
     "cell_type": "heading",
     "level": 6,
     "metadata": {},
     "source": [
      "Metropolis"
     ]
    },
    {
     "cell_type": "code",
     "collapsed": false,
     "input": [
      "test.metropolis_display(1000000)"
     ],
     "language": "python",
     "metadata": {},
     "outputs": [
      {
       "metadata": {},
       "output_type": "display_data",
       "png": "[encoded data removed]",
       "text": [
        "<matplotlib.figure.Figure at 0x4531f50>"
       ]
      }
     ],
     "prompt_number": 26
    },
    {
     "cell_type": "heading",
     "level": 6,
     "metadata": {},
     "source": [
      "Gibbs"
     ]
    },
    {
     "cell_type": "code",
     "collapsed": false,
     "input": [
      "test.gibbs_display(1000000)"
     ],
     "language": "python",
     "metadata": {},
     "outputs": [
      {
       "metadata": {},
       "output_type": "display_data",
       "png": "[encoded data removed]",
       "text": [
        "<matplotlib.figure.Figure at 0x44d5590>"
       ]
      }
     ],
     "prompt_number": 27
    },
    {
     "cell_type": "markdown",
     "metadata": {},
     "source": [
      "It appears that 60 iterations over the system size is enough even for large systems and the most important influence on the required number of iterations is the temperature."
     ]
    },
    {
     "cell_type": "code",
     "collapsed": false,
     "input": [
      "test.display()"
     ],
     "language": "python",
     "metadata": {},
     "outputs": [
      {
       "metadata": {},
       "output_type": "display_data",
       "png": "[encoded data removed]",
       "text": [
        "<matplotlib.figure.Figure at 0x44ddd50>"
       ]
      }
     ],
     "prompt_number": 28
    },
    {
     "cell_type": "heading",
     "level": 3,
     "metadata": {},
     "source": [
      "Critical Temperature"
     ]
    },
    {
     "cell_type": "markdown",
     "metadata": {},
     "source": [
      "The critical point can be identified by a singularity in the heat capacity $C_V = \\frac{\\partial <E>}{\\partial T}$.  As $<E> = -\\frac{\\partial}{\\partial \\beta} \\ln Z = \\sum_i \\frac{\\epsilon_i e^{-\\beta \\epsilon_i}}{Z}$.  The heat capacity can then be rewritten as $C_V = \\frac{\\partial \\beta}{\\partial T} \\frac{\\partial}{\\partial \\beta} <E> = -\\frac{1}{(kT)^2} \\frac{\\partial^2}{\\partial \\beta^2} \\ln Z = -\\frac{var(E)}{(kT)^2}$. The driver behind this singularity is thus the variance of the energy.  For a system of finite size, the variance will peak at the critical point.  Note that for finite systems, the heat capacity can have a local maximum without the variance having one (such as the Schottky anomaly).  This will not yield a phase transition. Our goal is to identify the approximate critical temperature by finding a peak in the variance."
     ]
    },
    {
     "cell_type": "code",
     "collapsed": false,
     "input": [
      "crit = Ising((128, 128), 1)"
     ],
     "language": "python",
     "metadata": {},
     "outputs": [],
     "prompt_number": 4
    },
    {
     "cell_type": "code",
     "collapsed": false,
     "input": [
      "temprange = np.concatenate((np.arange(0.1, 1.6, 0.5), np.arange(1.6, 2.1, 0.1), np.arange(2.1, 2.4, 0.05),\n",
      "                            np.arange(2.4, 2.99, 0.1), np.arange(3, 4, 0.2)))\n",
      "E_means = np.zeros_like(temprange)\n",
      "E_vars = np.zeros_like(temprange)\n",
      "for idx, t in enumerate(temprange):\n",
      "    print str(t) + \"      \",\n",
      "    crit.set_temp(t)\n",
      "    E_means[idx], E_vars[idx], discard = crit.energy_stat()"
     ],
     "language": "python",
     "metadata": {},
     "outputs": [
      {
       "output_type": "stream",
       "stream": "stdout",
       "text": [
        "0.1      \n"
       ]
      },
      {
       "output_type": "stream",
       "stream": "stdout",
       "text": [
        "0.6       "
       ]
      },
      {
       "output_type": "stream",
       "stream": "stdout",
       "text": [
        "60 "
       ]
      },
      {
       "output_type": "stream",
       "stream": "stdout",
       "text": [
        "70 "
       ]
      },
      {
       "output_type": "stream",
       "stream": "stdout",
       "text": [
        "80 "
       ]
      },
      {
       "output_type": "stream",
       "stream": "stdout",
       "text": [
        "90 "
       ]
      },
      {
       "output_type": "stream",
       "stream": "stdout",
       "text": [
        "100 "
       ]
      },
      {
       "output_type": "stream",
       "stream": "stdout",
       "text": [
        "110 "
       ]
      },
      {
       "output_type": "stream",
       "stream": "stdout",
       "text": [
        "120 "
       ]
      },
      {
       "output_type": "stream",
       "stream": "stdout",
       "text": [
        "130 "
       ]
      },
      {
       "output_type": "stream",
       "stream": "stdout",
       "text": [
        "140 "
       ]
      },
      {
       "output_type": "stream",
       "stream": "stdout",
       "text": [
        "150 "
       ]
      },
      {
       "output_type": "stream",
       "stream": "stdout",
       "text": [
        "160 "
       ]
      },
      {
       "output_type": "stream",
       "stream": "stdout",
       "text": [
        "170 "
       ]
      },
      {
       "output_type": "stream",
       "stream": "stdout",
       "text": [
        "180 "
       ]
      },
      {
       "output_type": "stream",
       "stream": "stdout",
       "text": [
        "190 "
       ]
      },
      {
       "output_type": "stream",
       "stream": "stdout",
       "text": [
        "200 "
       ]
      },
      {
       "output_type": "stream",
       "stream": "stdout",
       "text": [
        "210 "
       ]
      },
      {
       "output_type": "stream",
       "stream": "stdout",
       "text": [
        "220 "
       ]
      },
      {
       "output_type": "stream",
       "stream": "stdout",
       "text": [
        "230 "
       ]
      },
      {
       "output_type": "stream",
       "stream": "stdout",
       "text": [
        "240 "
       ]
      },
      {
       "output_type": "stream",
       "stream": "stdout",
       "text": [
        "250 "
       ]
      },
      {
       "output_type": "stream",
       "stream": "stdout",
       "text": [
        "260 "
       ]
      },
      {
       "output_type": "stream",
       "stream": "stdout",
       "text": [
        "270 "
       ]
      },
      {
       "output_type": "stream",
       "stream": "stdout",
       "text": [
        "280 "
       ]
      },
      {
       "output_type": "stream",
       "stream": "stdout",
       "text": [
        "290 "
       ]
      },
      {
       "output_type": "stream",
       "stream": "stdout",
       "text": [
        "300 "
       ]
      },
      {
       "output_type": "stream",
       "stream": "stdout",
       "text": [
        "310 "
       ]
      },
      {
       "output_type": "stream",
       "stream": "stdout",
       "text": [
        "320 "
       ]
      },
      {
       "output_type": "stream",
       "stream": "stdout",
       "text": [
        "330 "
       ]
      },
      {
       "output_type": "stream",
       "stream": "stdout",
       "text": [
        "340 "
       ]
      },
      {
       "output_type": "stream",
       "stream": "stdout",
       "text": [
        "350 "
       ]
      },
      {
       "output_type": "stream",
       "stream": "stdout",
       "text": [
        "360 "
       ]
      },
      {
       "output_type": "stream",
       "stream": "stdout",
       "text": [
        "370 "
       ]
      },
      {
       "output_type": "stream",
       "stream": "stdout",
       "text": [
        "380 "
       ]
      },
      {
       "output_type": "stream",
       "stream": "stdout",
       "text": [
        "390 "
       ]
      },
      {
       "output_type": "stream",
       "stream": "stdout",
       "text": [
        "400 "
       ]
      },
      {
       "output_type": "stream",
       "stream": "stdout",
       "text": [
        "410 "
       ]
      },
      {
       "output_type": "stream",
       "stream": "stdout",
       "text": [
        "420 "
       ]
      },
      {
       "output_type": "stream",
       "stream": "stdout",
       "text": [
        "430 "
       ]
      },
      {
       "output_type": "stream",
       "stream": "stdout",
       "text": [
        "440 "
       ]
      },
      {
       "output_type": "stream",
       "stream": "stdout",
       "text": [
        "450 "
       ]
      },
      {
       "output_type": "stream",
       "stream": "stdout",
       "text": [
        "460 "
       ]
      },
      {
       "output_type": "stream",
       "stream": "stdout",
       "text": [
        "470 "
       ]
      },
      {
       "output_type": "stream",
       "stream": "stdout",
       "text": [
        "480 "
       ]
      },
      {
       "output_type": "stream",
       "stream": "stdout",
       "text": [
        "490 "
       ]
      },
      {
       "output_type": "stream",
       "stream": "stdout",
       "text": [
        "500 "
       ]
      },
      {
       "output_type": "stream",
       "stream": "stdout",
       "text": [
        "510 "
       ]
      },
      {
       "output_type": "stream",
       "stream": "stdout",
       "text": [
        "520 "
       ]
      },
      {
       "output_type": "stream",
       "stream": "stdout",
       "text": [
        "530 "
       ]
      },
      {
       "output_type": "stream",
       "stream": "stdout",
       "text": [
        "540 "
       ]
      },
      {
       "output_type": "stream",
       "stream": "stdout",
       "text": [
        "550 "
       ]
      },
      {
       "output_type": "stream",
       "stream": "stdout",
       "text": [
        "560 "
       ]
      },
      {
       "output_type": "stream",
       "stream": "stdout",
       "text": [
        "570 "
       ]
      },
      {
       "output_type": "stream",
       "stream": "stdout",
       "text": [
        "580 "
       ]
      },
      {
       "output_type": "stream",
       "stream": "stdout",
       "text": [
        "590 "
       ]
      },
      {
       "output_type": "stream",
       "stream": "stdout",
       "text": [
        "600 "
       ]
      },
      {
       "output_type": "stream",
       "stream": "stdout",
       "text": [
        "610 "
       ]
      },
      {
       "output_type": "stream",
       "stream": "stdout",
       "text": [
        "620 "
       ]
      },
      {
       "output_type": "stream",
       "stream": "stdout",
       "text": [
        "630 "
       ]
      },
      {
       "output_type": "stream",
       "stream": "stdout",
       "text": [
        "640 "
       ]
      },
      {
       "output_type": "stream",
       "stream": "stdout",
       "text": [
        "650 "
       ]
      },
      {
       "output_type": "stream",
       "stream": "stdout",
       "text": [
        "660 "
       ]
      },
      {
       "output_type": "stream",
       "stream": "stdout",
       "text": [
        "670 "
       ]
      },
      {
       "output_type": "stream",
       "stream": "stdout",
       "text": [
        "680 "
       ]
      },
      {
       "output_type": "stream",
       "stream": "stdout",
       "text": [
        "690 "
       ]
      },
      {
       "output_type": "stream",
       "stream": "stdout",
       "text": [
        "700 "
       ]
      },
      {
       "output_type": "stream",
       "stream": "stdout",
       "text": [
        "710 "
       ]
      },
      {
       "output_type": "stream",
       "stream": "stdout",
       "text": [
        "720 "
       ]
      },
      {
       "output_type": "stream",
       "stream": "stdout",
       "text": [
        "730 "
       ]
      },
      {
       "output_type": "stream",
       "stream": "stdout",
       "text": [
        "740 "
       ]
      },
      {
       "output_type": "stream",
       "stream": "stdout",
       "text": [
        "750 "
       ]
      },
      {
       "output_type": "stream",
       "stream": "stdout",
       "text": [
        "760 "
       ]
      },
      {
       "output_type": "stream",
       "stream": "stdout",
       "text": [
        "770 "
       ]
      },
      {
       "output_type": "stream",
       "stream": "stdout",
       "text": [
        "780 "
       ]
      },
      {
       "output_type": "stream",
       "stream": "stdout",
       "text": [
        "790 "
       ]
      },
      {
       "output_type": "stream",
       "stream": "stdout",
       "text": [
        "800 "
       ]
      },
      {
       "output_type": "stream",
       "stream": "stdout",
       "text": [
        "810 "
       ]
      },
      {
       "output_type": "stream",
       "stream": "stdout",
       "text": [
        "820 "
       ]
      },
      {
       "output_type": "stream",
       "stream": "stdout",
       "text": [
        "830 "
       ]
      },
      {
       "output_type": "stream",
       "stream": "stdout",
       "text": [
        "840 "
       ]
      },
      {
       "output_type": "stream",
       "stream": "stdout",
       "text": [
        "850 "
       ]
      },
      {
       "output_type": "stream",
       "stream": "stdout",
       "text": [
        "860 "
       ]
      },
      {
       "output_type": "stream",
       "stream": "stdout",
       "text": [
        "870 "
       ]
      },
      {
       "output_type": "stream",
       "stream": "stdout",
       "text": [
        "880 "
       ]
      },
      {
       "output_type": "stream",
       "stream": "stdout",
       "text": [
        "890 "
       ]
      },
      {
       "output_type": "stream",
       "stream": "stdout",
       "text": [
        "900 "
       ]
      },
      {
       "output_type": "stream",
       "stream": "stdout",
       "text": [
        "910 "
       ]
      },
      {
       "output_type": "stream",
       "stream": "stdout",
       "text": [
        "920 "
       ]
      },
      {
       "output_type": "stream",
       "stream": "stdout",
       "text": [
        "930 "
       ]
      },
      {
       "output_type": "stream",
       "stream": "stdout",
       "text": [
        "940 "
       ]
      },
      {
       "output_type": "stream",
       "stream": "stdout",
       "text": [
        "950 "
       ]
      },
      {
       "output_type": "stream",
       "stream": "stdout",
       "text": [
        "960 "
       ]
      },
      {
       "output_type": "stream",
       "stream": "stdout",
       "text": [
        "970\n"
       ]
      },
      {
       "output_type": "stream",
       "stream": "stdout",
       "text": [
        "1.1       "
       ]
      },
      {
       "output_type": "stream",
       "stream": "stdout",
       "text": [
        "60 "
       ]
      },
      {
       "output_type": "stream",
       "stream": "stdout",
       "text": [
        "70 "
       ]
      },
      {
       "output_type": "stream",
       "stream": "stdout",
       "text": [
        "80 "
       ]
      },
      {
       "output_type": "stream",
       "stream": "stdout",
       "text": [
        "90 "
       ]
      },
      {
       "output_type": "stream",
       "stream": "stdout",
       "text": [
        "100\n"
       ]
      },
      {
       "output_type": "stream",
       "stream": "stdout",
       "text": [
        "1.6      \n"
       ]
      },
      {
       "output_type": "stream",
       "stream": "stdout",
       "text": [
        "1.7       "
       ]
      },
      {
       "output_type": "stream",
       "stream": "stdout",
       "text": [
        "60\n",
        "1.8       "
       ]
      },
      {
       "output_type": "stream",
       "stream": "stdout",
       "text": [
        "60 "
       ]
      },
      {
       "output_type": "stream",
       "stream": "stdout",
       "text": [
        "70\n",
        "1.9      \n"
       ]
      },
      {
       "output_type": "stream",
       "stream": "stdout",
       "text": [
        "2.0       "
       ]
      },
      {
       "output_type": "stream",
       "stream": "stdout",
       "text": [
        "60 "
       ]
      },
      {
       "output_type": "stream",
       "stream": "stdout",
       "text": [
        "70\n"
       ]
      },
      {
       "output_type": "stream",
       "stream": "stdout",
       "text": [
        "2.1       "
       ]
      },
      {
       "output_type": "stream",
       "stream": "stdout",
       "text": [
        "60 "
       ]
      },
      {
       "output_type": "stream",
       "stream": "stdout",
       "text": [
        "70 "
       ]
      },
      {
       "output_type": "stream",
       "stream": "stdout",
       "text": [
        "80 "
       ]
      },
      {
       "output_type": "stream",
       "stream": "stdout",
       "text": [
        "90\n"
       ]
      },
      {
       "output_type": "stream",
       "stream": "stdout",
       "text": [
        "2.15      \n"
       ]
      },
      {
       "output_type": "stream",
       "stream": "stdout",
       "text": [
        "2.2      \n"
       ]
      },
      {
       "output_type": "stream",
       "stream": "stdout",
       "text": [
        "2.25       "
       ]
      },
      {
       "output_type": "stream",
       "stream": "stdout",
       "text": [
        "60 "
       ]
      },
      {
       "output_type": "stream",
       "stream": "stdout",
       "text": [
        "70\n"
       ]
      },
      {
       "output_type": "stream",
       "stream": "stdout",
       "text": [
        "2.3      \n"
       ]
      },
      {
       "output_type": "stream",
       "stream": "stdout",
       "text": [
        "2.35       "
       ]
      },
      {
       "output_type": "stream",
       "stream": "stdout",
       "text": [
        "60 "
       ]
      },
      {
       "output_type": "stream",
       "stream": "stdout",
       "text": [
        "70 "
       ]
      },
      {
       "output_type": "stream",
       "stream": "stdout",
       "text": [
        "80 "
       ]
      },
      {
       "output_type": "stream",
       "stream": "stdout",
       "text": [
        "90 "
       ]
      },
      {
       "output_type": "stream",
       "stream": "stdout",
       "text": [
        "100 "
       ]
      },
      {
       "output_type": "stream",
       "stream": "stdout",
       "text": [
        "110 "
       ]
      },
      {
       "output_type": "stream",
       "stream": "stdout",
       "text": [
        "120 "
       ]
      },
      {
       "output_type": "stream",
       "stream": "stdout",
       "text": [
        "130\n",
        "2.4       "
       ]
      },
      {
       "output_type": "stream",
       "stream": "stdout",
       "text": [
        "60 "
       ]
      },
      {
       "output_type": "stream",
       "stream": "stdout",
       "text": [
        "70 "
       ]
      },
      {
       "output_type": "stream",
       "stream": "stdout",
       "text": [
        "80 "
       ]
      },
      {
       "output_type": "stream",
       "stream": "stdout",
       "text": [
        "90\n"
       ]
      },
      {
       "output_type": "stream",
       "stream": "stdout",
       "text": [
        "2.5      \n"
       ]
      },
      {
       "output_type": "stream",
       "stream": "stdout",
       "text": [
        "2.6       "
       ]
      },
      {
       "output_type": "stream",
       "stream": "stdout",
       "text": [
        "60 "
       ]
      },
      {
       "output_type": "stream",
       "stream": "stdout",
       "text": [
        "70 "
       ]
      },
      {
       "output_type": "stream",
       "stream": "stdout",
       "text": [
        "80 "
       ]
      },
      {
       "output_type": "stream",
       "stream": "stdout",
       "text": [
        "90 "
       ]
      },
      {
       "output_type": "stream",
       "stream": "stdout",
       "text": [
        "100\n",
        "2.7       "
       ]
      },
      {
       "output_type": "stream",
       "stream": "stdout",
       "text": [
        "60 "
       ]
      },
      {
       "output_type": "stream",
       "stream": "stdout",
       "text": [
        "70 "
       ]
      },
      {
       "output_type": "stream",
       "stream": "stdout",
       "text": [
        "80\n"
       ]
      },
      {
       "output_type": "stream",
       "stream": "stdout",
       "text": [
        "2.8       "
       ]
      },
      {
       "output_type": "stream",
       "stream": "stdout",
       "text": [
        "60\n"
       ]
      },
      {
       "output_type": "stream",
       "stream": "stdout",
       "text": [
        "2.9       "
       ]
      },
      {
       "output_type": "stream",
       "stream": "stdout",
       "text": [
        "60\n"
       ]
      },
      {
       "output_type": "stream",
       "stream": "stdout",
       "text": [
        "3.0       "
       ]
      },
      {
       "output_type": "stream",
       "stream": "stdout",
       "text": [
        "60 "
       ]
      },
      {
       "output_type": "stream",
       "stream": "stdout",
       "text": [
        "70\n"
       ]
      },
      {
       "output_type": "stream",
       "stream": "stdout",
       "text": [
        "3.2       "
       ]
      },
      {
       "output_type": "stream",
       "stream": "stdout",
       "text": [
        "60\n"
       ]
      },
      {
       "output_type": "stream",
       "stream": "stdout",
       "text": [
        "3.4      \n"
       ]
      },
      {
       "output_type": "stream",
       "stream": "stdout",
       "text": [
        "3.6       "
       ]
      },
      {
       "output_type": "stream",
       "stream": "stdout",
       "text": [
        "60 "
       ]
      },
      {
       "output_type": "stream",
       "stream": "stdout",
       "text": [
        "70 "
       ]
      },
      {
       "output_type": "stream",
       "stream": "stdout",
       "text": [
        "80 "
       ]
      },
      {
       "output_type": "stream",
       "stream": "stdout",
       "text": [
        "90 "
       ]
      },
      {
       "output_type": "stream",
       "stream": "stdout",
       "text": [
        "100\n",
        "3.8       "
       ]
      },
      {
       "output_type": "stream",
       "stream": "stdout",
       "text": [
        "60 "
       ]
      },
      {
       "output_type": "stream",
       "stream": "stdout",
       "text": [
        "70 "
       ]
      },
      {
       "output_type": "stream",
       "stream": "stdout",
       "text": [
        "80 "
       ]
      },
      {
       "output_type": "stream",
       "stream": "stdout",
       "text": [
        "90 "
       ]
      },
      {
       "output_type": "stream",
       "stream": "stdout",
       "text": [
        "100 "
       ]
      },
      {
       "output_type": "stream",
       "stream": "stdout",
       "text": [
        "110\n"
       ]
      },
      {
       "output_type": "stream",
       "stream": "stderr",
       "text": [
        "-c:175: RuntimeWarning: invalid value encountered in double_scalars\n"
       ]
      }
     ],
     "prompt_number": 5
    },
    {
     "cell_type": "code",
     "collapsed": false,
     "input": [
      "fig1, axes1 = plt.subplots(1, 2, figsize=(15, 5))\n",
      "axes1[0].plot(temprange, E_means)\n",
      "E_std = np.sqrt(E_vars)\n",
      "axes1[0].errorbar(temprange, E_means, yerr=E_std)\n",
      "axes1[1].plot(temprange, E_vars)\n"
     ],
     "language": "python",
     "metadata": {},
     "outputs": [
      {
       "metadata": {},
       "output_type": "pyout",
       "prompt_number": 6,
       "text": [
        "[<matplotlib.lines.Line2D at 0x2338e50>]"
       ]
      },
      {
       "metadata": {},
       "output_type": "display_data",
       "png": "[encoded data removed]",
       "text": [
        "<matplotlib.figure.Figure at 0x234b0d0>"
       ]
      }
     ],
     "prompt_number": 6
    },
    {
     "cell_type": "code",
     "collapsed": false,
     "input": [
      "np.savez(\"E_meansvars_128x128_t0_4\", temprange, E_means, E_vars)"
     ],
     "language": "python",
     "metadata": {},
     "outputs": [],
     "prompt_number": 7
    },
    {
     "cell_type": "heading",
     "level": 3,
     "metadata": {},
     "source": [
      "Magnetization"
     ]
    },
    {
     "cell_type": "code",
     "collapsed": false,
     "input": [
      "Mag_test = Ising((64,64), 1)"
     ],
     "language": "python",
     "metadata": {},
     "outputs": [],
     "prompt_number": 41
    },
    {
     "cell_type": "code",
     "collapsed": false,
     "input": [
      "temprange = np.concatenate((np.arange(0.1, 1.6, 0.5), np.arange(1.6, 2.1, 0.1), np.arange(2.1, 2.4, 0.05),\n",
      "                            np.arange(2.4, 2.99, 0.1), np.arange(3, 4, 0.2)))\n",
      "Mag_means = np.zeros_like(temprange)\n",
      "Mag_vars = np.zeros_like(temprange)\n",
      "for idx, T in enumerate(temprange):\n",
      "    print str(T) + \"\",\n",
      "    Mag_test.temp = T\n",
      "    Mag_means[idx], Mag_vars[idx], discard = Mag_test.magnetization_stat(100)"
     ],
     "language": "python",
     "metadata": {},
     "outputs": [
      {
       "output_type": "stream",
       "stream": "stdout",
       "text": [
        "0.1 "
       ]
      },
      {
       "output_type": "stream",
       "stream": "stdout",
       "text": [
        "0.6 "
       ]
      },
      {
       "output_type": "stream",
       "stream": "stdout",
       "text": [
        "1.1 "
       ]
      },
      {
       "output_type": "stream",
       "stream": "stdout",
       "text": [
        "1.6 "
       ]
      },
      {
       "output_type": "stream",
       "stream": "stdout",
       "text": [
        "1.7 "
       ]
      },
      {
       "output_type": "stream",
       "stream": "stdout",
       "text": [
        "1.8 "
       ]
      },
      {
       "output_type": "stream",
       "stream": "stdout",
       "text": [
        "1.9 "
       ]
      },
      {
       "output_type": "stream",
       "stream": "stdout",
       "text": [
        "2.0 "
       ]
      },
      {
       "output_type": "stream",
       "stream": "stdout",
       "text": [
        "2.1 "
       ]
      },
      {
       "output_type": "stream",
       "stream": "stdout",
       "text": [
        "2.15 "
       ]
      },
      {
       "output_type": "stream",
       "stream": "stdout",
       "text": [
        "2.2 "
       ]
      },
      {
       "output_type": "stream",
       "stream": "stdout",
       "text": [
        "2.25 "
       ]
      },
      {
       "output_type": "stream",
       "stream": "stdout",
       "text": [
        "2.3 "
       ]
      },
      {
       "output_type": "stream",
       "stream": "stdout",
       "text": [
        "2.35 "
       ]
      },
      {
       "output_type": "stream",
       "stream": "stdout",
       "text": [
        "2.4 "
       ]
      },
      {
       "output_type": "stream",
       "stream": "stdout",
       "text": [
        "2.5 "
       ]
      },
      {
       "output_type": "stream",
       "stream": "stdout",
       "text": [
        "2.6 "
       ]
      },
      {
       "output_type": "stream",
       "stream": "stdout",
       "text": [
        "2.7 "
       ]
      },
      {
       "output_type": "stream",
       "stream": "stdout",
       "text": [
        "2.8 "
       ]
      },
      {
       "output_type": "stream",
       "stream": "stdout",
       "text": [
        "2.9 "
       ]
      },
      {
       "output_type": "stream",
       "stream": "stdout",
       "text": [
        "3.0 "
       ]
      },
      {
       "output_type": "stream",
       "stream": "stdout",
       "text": [
        "3.2 "
       ]
      },
      {
       "output_type": "stream",
       "stream": "stdout",
       "text": [
        "3.4 "
       ]
      },
      {
       "output_type": "stream",
       "stream": "stdout",
       "text": [
        "3.6 "
       ]
      },
      {
       "output_type": "stream",
       "stream": "stdout",
       "text": [
        "3.8\n"
       ]
      }
     ],
     "prompt_number": 42
    },
    {
     "cell_type": "code",
     "collapsed": false,
     "input": [
      "fig2, axes2 = plt.subplots(figsize=(15, 5))\n",
      "axes2.plot(temprange, np.abs(Mag_means))\n",
      "Mag_std = np.sqrt(Mag_vars)\n",
      "axes2.errorbar(temprange, np.abs(Mag_means), yerr=Mag_std)\n"
     ],
     "language": "python",
     "metadata": {},
     "outputs": [
      {
       "metadata": {},
       "output_type": "pyout",
       "prompt_number": 43,
       "text": [
        "<Container object of 3 artists>"
       ]
      },
      {
       "metadata": {},
       "output_type": "display_data",
       "png": "[encoded data removed]",
       "text": [
        "<matplotlib.figure.Figure at 0x39e73d0>"
       ]
      }
     ],
     "prompt_number": 43
    },
    {
     "cell_type": "code",
     "collapsed": false,
     "input": [
      "fig2.savefig(\"Mag_64.png\", bbox='inches')"
     ],
     "language": "python",
     "metadata": {},
     "outputs": [],
     "prompt_number": 44
    },
    {
     "cell_type": "heading",
     "level": 3,
     "metadata": {},
     "source": [
      "Sources"
     ]
    },
    {
     "cell_type": "markdown",
     "metadata": {},
     "source": [
      "* Luca Peliti, *Statistical Mechanics in a Nutshell*\n",
      "* David MacKay, *Information Theory, Inference, and Learning Algorithms*"
     ]
    }
   ],
   "metadata": {}
  }
 ]
}